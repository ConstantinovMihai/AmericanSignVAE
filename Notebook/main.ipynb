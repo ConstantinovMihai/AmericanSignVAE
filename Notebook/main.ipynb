{
 "cells": [
  {
   "cell_type": "code",
   "execution_count": 1,
   "metadata": {
    "ExecuteTime": {
     "end_time": "2023-05-23T14:55:25.398336500Z",
     "start_time": "2023-05-23T14:55:21.218667800Z"
    }
   },
   "outputs": [],
   "source": [
    "import matplotlib.pyplot as plt\n",
    "import torch\n",
    "import torch.nn.functional as F\n",
    "import torch.optim as optim\n",
    "from torch.utils.data import TensorDataset\n",
    "from torchvision import transforms\n",
    "from torchvision.utils import save_image\n",
    "from tqdm import tqdm\n",
    "# %run ConV_VAE.ipynb\n",
    "%run bigger_latent_space.ipynb\n",
    "%run loader.ipynb\n",
    "%run test.ipynb\n",
    "%run train.ipynb"
   ]
  },
  {
   "cell_type": "code",
   "execution_count": 2,
   "metadata": {
    "ExecuteTime": {
     "end_time": "2023-05-23T14:55:25.413994100Z",
     "start_time": "2023-05-23T14:55:25.398336500Z"
    }
   },
   "outputs": [],
   "source": [
    "plt.rcParams['figure.dpi'] = 100\n",
    "device = 'cuda' if torch.cuda.is_available() else 'cpu'\n",
    "####### IMPORTANT ######\n",
    "# set this flag to true if you want to load the model beforehand\n",
    "load = False\n",
    "# specify which model you want to load\n",
    "model_name = None\n",
    "\n",
    "latent_space = 4096\n",
    "batch_size=128"
   ]
  },
  {
   "cell_type": "code",
   "execution_count": 3,
   "metadata": {
    "ExecuteTime": {
     "end_time": "2023-05-23T14:55:30.098453800Z",
     "start_time": "2023-05-23T14:55:25.413994100Z"
    }
   },
   "outputs": [],
   "source": [
    "normalize = transforms.Lambda(lambda x : x / 255.0)\n",
    "transform = transforms.Compose([\n",
    "    transforms.ToTensor(),# replace with to pil image?\n",
    "    normalize\n",
    "])\n",
    "train_data = CustomImageDataset('../data/sign_mnist_train.csv', transform=transform)\n",
    "train_data_raw = CustomImageDataset('../data/sign_mnist_train.csv', transform=transforms.ToTensor())\n",
    "test_data = CustomImageDataset('../data/sign_mnist_test.csv', transform=transform)"
   ]
  },
  {
   "cell_type": "code",
   "execution_count": 4,
   "metadata": {
    "ExecuteTime": {
     "end_time": "2023-05-23T14:55:30.114076700Z",
     "start_time": "2023-05-23T14:55:30.098453800Z"
    }
   },
   "outputs": [],
   "source": [
    "train_loader = torch.utils.data.DataLoader(train_data, batch_size=batch_size, shuffle=True)\n",
    "test_loader = torch.utils.data.DataLoader(test_data, batch_size=batch_size, shuffle=True)"
   ]
  },
  {
   "cell_type": "code",
   "execution_count": 5,
   "metadata": {
    "ExecuteTime": {
     "end_time": "2023-05-23T14:55:31.220221500Z",
     "start_time": "2023-05-23T14:55:30.114076700Z"
    }
   },
   "outputs": [],
   "source": [
    "model = ConvVarAutoencoder(latent_space).to(device)\n",
    "if (load):\n",
    "    model.load_state_dict(torch.load(model_name, map_location=device))\n",
    "\n",
    "criterion = F.mse_loss\n",
    "optimizer = optim.Adam(model.parameters(), lr=1e-3, weight_decay=0.1)"
   ]
  },
  {
   "cell_type": "code",
   "execution_count": null,
   "outputs": [
    {
     "name": "stderr",
     "output_type": "stream",
     "text": [
      "  0%|          | 0/10 [00:00<?, ?it/s]"
     ]
    },
    {
     "name": "stdout",
     "output_type": "stream",
     "text": [
      "====> Average Training loss per image: 1685.4924\n",
      "====>Average  Test set loss per image : 1452.8360\n"
     ]
    },
    {
     "name": "stderr",
     "output_type": "stream",
     "text": [
      " 20%|██        | 2/10 [01:26<05:42, 42.85s/it]"
     ]
    },
    {
     "name": "stdout",
     "output_type": "stream",
     "text": [
      "====> Average Training loss per image: 1446.7231\n",
      "====>Average  Test set loss per image : 1441.6087\n"
     ]
    },
    {
     "name": "stderr",
     "output_type": "stream",
     "text": [
      " 30%|███       | 3/10 [02:07<04:56, 42.39s/it]"
     ]
    },
    {
     "name": "stdout",
     "output_type": "stream",
     "text": [
      "====> Average Training loss per image: 1440.9142\n",
      "====>Average  Test set loss per image : 1441.4647\n"
     ]
    },
    {
     "name": "stderr",
     "output_type": "stream",
     "text": [
      " 40%|████      | 4/10 [02:48<04:10, 41.75s/it]"
     ]
    },
    {
     "name": "stdout",
     "output_type": "stream",
     "text": [
      "====> Average Training loss per image: 1440.4932\n",
      "====>Average  Test set loss per image : 1440.4860\n"
     ]
    },
    {
     "name": "stderr",
     "output_type": "stream",
     "text": [
      " 50%|█████     | 5/10 [03:30<03:28, 41.63s/it]"
     ]
    },
    {
     "name": "stdout",
     "output_type": "stream",
     "text": [
      "====> Average Training loss per image: 1440.2500\n",
      "====>Average  Test set loss per image : 1440.3297\n"
     ]
    }
   ],
   "source": [
    "epochs = 10\n",
    "train_losses = []\n",
    "test_losses = []\n",
    "for epoch in tqdm(range(epochs)):  # loop over the dataset multiple times\n",
    "    # Train on data\n",
    "    train_loss = train_vae(train_loader, model, optimizer, device)\n",
    "    test_loss = test(epoch, model, test_loader)\n",
    "    print('====> Average Training loss per image: {:.4f}'.format(train_loss.item()))\n",
    "    print('====>Average  Test set loss per image : {:.4f}'.format(test_loss))\n",
    "    if epoch % 5 == 0:\n",
    "        torch.save(model.state_dict(), \"../model/model\" + str(epoch) + \".pt\")\n",
    "        with torch.no_grad():\n",
    "            sample = torch.randn(batch_size, latent_space).to(device)\n",
    "            sample = model.decoder(sample).cpu()\n",
    "            save_image(sample.view(batch_size, 1, 28, 28),\n",
    "                       '../results/' + str(epoch) + '.png')\n",
    "    train_losses.append(train_loss.cpu().detach().numpy())\n",
    "    test_losses.append(test_loss)"
   ],
   "metadata": {
    "collapsed": false,
    "is_executing": true,
    "ExecuteTime": {
     "start_time": "2023-05-23T14:55:31.220221500Z"
    }
   }
  },
  {
   "cell_type": "code",
   "execution_count": null,
   "outputs": [],
   "source": [
    "plt.plot(train_losses, label=\"training\")\n",
    "plt.plot(test_losses, label=\"validation\")\n",
    "plt.legend()\n",
    "plt.show()"
   ],
   "metadata": {
    "collapsed": false,
    "is_executing": true
   }
  }
 ],
 "metadata": {
  "kernelspec": {
   "display_name": "Python 3",
   "language": "python",
   "name": "python3"
  },
  "language_info": {
   "codemirror_mode": {
    "name": "ipython",
    "version": 3
   },
   "file_extension": ".py",
   "mimetype": "text/x-python",
   "name": "python",
   "nbconvert_exporter": "python",
   "pygments_lexer": "ipython3",
   "version": "3.6.4"
  }
 },
 "nbformat": 4,
 "nbformat_minor": 2
}
