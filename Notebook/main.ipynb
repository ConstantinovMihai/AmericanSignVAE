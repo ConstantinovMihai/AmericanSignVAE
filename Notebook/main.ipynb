{
 "cells": [
  {
   "cell_type": "code",
   "execution_count": 88,
   "metadata": {
    "ExecuteTime": {
     "end_time": "2023-05-23T16:11:04.350611600Z",
     "start_time": "2023-05-23T16:11:04.272363Z"
    }
   },
   "outputs": [],
   "source": [
    "import matplotlib.pyplot as plt\n",
    "import torch\n",
    "import torch.nn.functional as F\n",
    "import torch.optim as optim\n",
    "from torch.utils.data import TensorDataset\n",
    "from torchvision import transforms\n",
    "from torchvision.utils import save_image\n",
    "from tqdm import tqdm\n",
    "# %run ConV_VAE.ipynb\n",
    "%run bigger_latent_space.ipynb\n",
    "%run loader.ipynb\n",
    "%run test.ipynb\n",
    "%run train.ipynb"
   ]
  },
  {
   "cell_type": "code",
   "execution_count": 89,
   "metadata": {
    "ExecuteTime": {
     "end_time": "2023-05-23T16:11:04.366230300Z",
     "start_time": "2023-05-23T16:11:04.350611600Z"
    }
   },
   "outputs": [],
   "source": [
    "plt.rcParams['figure.dpi'] = 100\n",
    "device = 'cuda' if torch.cuda.is_available() else 'cpu'\n",
    "####### IMPORTANT ######\n",
    "# set this flag to true if you want to load the model beforehand\n",
    "load = False\n",
    "# specify which model you want to load\n",
    "model_name = None\n",
    "\n",
    "latent_space = 512\n",
    "batch_size=128"
   ]
  },
  {
   "cell_type": "code",
   "execution_count": 90,
   "metadata": {
    "ExecuteTime": {
     "end_time": "2023-05-23T16:11:06.864136500Z",
     "start_time": "2023-05-23T16:11:04.366230300Z"
    }
   },
   "outputs": [],
   "source": [
    "normalize = transforms.Lambda(lambda x : x / 255.0)\n",
    "transform = transforms.Compose([\n",
    "    transforms.ToTensor(),# replace with to pil image?\n",
    "    normalize\n",
    "])\n",
    "train_data = CustomImageDataset('../data/sign_mnist_train.csv', transform=transform)\n",
    "test_data = CustomImageDataset('../data/sign_mnist_test.csv', transform=transform)"
   ]
  },
  {
   "cell_type": "code",
   "execution_count": 91,
   "metadata": {
    "ExecuteTime": {
     "end_time": "2023-05-23T16:11:06.895379100Z",
     "start_time": "2023-05-23T16:11:06.879758600Z"
    }
   },
   "outputs": [],
   "source": [
    "train_loader = torch.utils.data.DataLoader(train_data, batch_size=batch_size, shuffle=True)\n",
    "test_loader = torch.utils.data.DataLoader(test_data, batch_size=batch_size, shuffle=True)"
   ]
  },
  {
   "cell_type": "code",
   "execution_count": 92,
   "metadata": {
    "ExecuteTime": {
     "end_time": "2023-05-23T16:11:07.192232700Z",
     "start_time": "2023-05-23T16:11:06.895379100Z"
    }
   },
   "outputs": [],
   "source": [
    "model = ConvVarAutoencoder(latent_space).to(device)\n",
    "if (load):\n",
    "    model.load_state_dict(torch.load(model_name, map_location=device))\n",
    "\n",
    "criterion = F.mse_loss\n",
    "optimizer = optim.Adam(model.parameters(), lr=1e-3, weight_decay=0.1)"
   ]
  },
  {
   "cell_type": "code",
   "execution_count": null,
   "outputs": [
    {
     "name": "stderr",
     "output_type": "stream",
     "text": [
      "  5%|▌         | 1/20 [00:17<05:28, 17.30s/it]"
     ]
    },
    {
     "name": "stdout",
     "output_type": "stream",
     "text": [
      "====> Average Training loss per image: 211.8542\n",
      "====>Average  Test set loss per image : 201.9056\n"
     ]
    },
    {
     "name": "stderr",
     "output_type": "stream",
     "text": [
      " 10%|█         | 2/20 [00:33<04:57, 16.51s/it]"
     ]
    },
    {
     "name": "stdout",
     "output_type": "stream",
     "text": [
      "====> Average Training loss per image: 201.6041\n",
      "====>Average  Test set loss per image : 198.1530\n"
     ]
    },
    {
     "name": "stderr",
     "output_type": "stream",
     "text": [
      " 15%|█▌        | 3/20 [00:49<04:41, 16.59s/it]"
     ]
    },
    {
     "name": "stdout",
     "output_type": "stream",
     "text": [
      "====> Average Training loss per image: 197.9487\n",
      "====>Average  Test set loss per image : 197.8582\n"
     ]
    }
   ],
   "source": [
    "epochs = 20\n",
    "train_losses = []\n",
    "test_losses = []\n",
    "for epoch in tqdm(range(epochs)):  # loop over the dataset multiple times\n",
    "    # Train on data\n",
    "    train_loss = train_vae(train_loader, model, optimizer, device)\n",
    "    test_loss = test(epoch, model, test_loader)\n",
    "    print('====> Average Training loss per image: {:.4f}'.format(train_loss.item()))\n",
    "    print('====>Average  Test set loss per image : {:.4f}'.format(test_loss))\n",
    "    if epoch % 5 == 0:\n",
    "        torch.save(model.state_dict(), \"../model/model\" + str(epoch) + \".pt\")\n",
    "        with torch.no_grad():\n",
    "            sample = torch.randn(batch_size, latent_space).to(device)\n",
    "            sample = model.decoder(sample).cpu()\n",
    "            save_image(sample.view(batch_size, 1, 28, 28),\n",
    "                       '../results/' + str(epoch) + '.png')\n",
    "    train_losses.append(train_loss.cpu().detach().numpy())\n",
    "    test_losses.append(test_loss)"
   ],
   "metadata": {
    "collapsed": false,
    "is_executing": true,
    "ExecuteTime": {
     "start_time": "2023-05-23T16:11:07.192232700Z"
    }
   }
  },
  {
   "cell_type": "code",
   "execution_count": null,
   "outputs": [],
   "source": [
    "plt.plot(train_losses, label=\"training\")\n",
    "plt.plot(test_losses, label=\"validation\")\n",
    "plt.legend()\n",
    "plt.show()"
   ],
   "metadata": {
    "collapsed": false,
    "is_executing": true
   }
  }
 ],
 "metadata": {
  "kernelspec": {
   "display_name": "Python 3",
   "language": "python",
   "name": "python3"
  },
  "language_info": {
   "codemirror_mode": {
    "name": "ipython",
    "version": 3
   },
   "file_extension": ".py",
   "mimetype": "text/x-python",
   "name": "python",
   "nbconvert_exporter": "python",
   "pygments_lexer": "ipython3",
   "version": "3.6.4"
  }
 },
 "nbformat": 4,
 "nbformat_minor": 2
}
