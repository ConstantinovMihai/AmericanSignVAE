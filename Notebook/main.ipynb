{
 "cells": [
  {
   "cell_type": "code",
   "execution_count": 19,
   "metadata": {
    "ExecuteTime": {
     "end_time": "2023-06-06T09:36:43.408592800Z",
     "start_time": "2023-06-06T09:36:43.278258Z"
    }
   },
   "outputs": [],
   "source": [
    "import matplotlib.pyplot as plt\n",
    "import torch\n",
    "import torch.nn.functional as F\n",
    "import torch.optim as optim\n",
    "from torch.utils.data import TensorDataset\n",
    "from torchvision import transforms\n",
    "from torchvision.utils import save_image\n",
    "from tqdm import tqdm\n",
    "%run ConV_VAE.ipynb\n",
    "# %run bigger_latent_space.ipynb\n",
    "%run loader.ipynb\n",
    "%run test.ipynb\n",
    "%run train.ipynb"
   ]
  },
  {
   "cell_type": "code",
   "execution_count": 20,
   "metadata": {
    "ExecuteTime": {
     "end_time": "2023-06-06T09:36:43.425945500Z",
     "start_time": "2023-06-06T09:36:43.417533300Z"
    }
   },
   "outputs": [],
   "source": [
    "plt.rcParams['figure.dpi'] = 100\n",
    "device = 'cuda' if torch.cuda.is_available() else 'cpu'\n",
    "####### IMPORTANT ######\n",
    "# set this flag to true if you want to load the model beforehand\n",
    "load = False\n",
    "# specify which model you want to load\n",
    "model_name = None\n",
    "\n",
    "latent_space = 2048\n",
    "batch_size=64"
   ]
  },
  {
   "cell_type": "code",
   "execution_count": 21,
   "metadata": {
    "ExecuteTime": {
     "end_time": "2023-06-06T09:36:47.664698500Z",
     "start_time": "2023-06-06T09:36:43.431866200Z"
    }
   },
   "outputs": [],
   "source": [
    "normalize = transforms.Lambda(lambda x : x / 255.0)\n",
    "transform = transforms.Compose([\n",
    "    transforms.ToTensor(),\n",
    "    #transforms.Resize(100, antialias=True),\n",
    "    normalize\n",
    "])\n",
    "train_data = CustomImageDataset('../data/sign_mnist_train.csv', transform=transform)\n",
    "test_data = CustomImageDataset('../data/sign_mnist_test.csv', transform=transform)"
   ]
  },
  {
   "cell_type": "code",
   "execution_count": 22,
   "metadata": {
    "ExecuteTime": {
     "end_time": "2023-06-06T09:36:47.725665700Z",
     "start_time": "2023-06-06T09:36:47.708712100Z"
    }
   },
   "outputs": [],
   "source": [
    "train_loader = torch.utils.data.DataLoader(train_data, batch_size=batch_size, shuffle=True)\n",
    "test_loader = torch.utils.data.DataLoader(test_data, batch_size=batch_size, shuffle=True)"
   ]
  },
  {
   "cell_type": "code",
   "execution_count": 23,
   "metadata": {
    "ExecuteTime": {
     "end_time": "2023-06-06T09:36:49.258943600Z",
     "start_time": "2023-06-06T09:36:47.735153Z"
    }
   },
   "outputs": [],
   "source": [
    "model = ConvVarAutoencoder().to(device)\n",
    "if (False):\n",
    "    model.load_state_dict(torch.load(model_name, map_location=device))\n",
    "\n",
    "criterion = F.mse_loss\n",
    "optimizer = optim.Adam(model.parameters(), lr=1e-3, weight_decay=0.1)"
   ]
  },
  {
   "cell_type": "code",
   "execution_count": 24,
   "outputs": [
    {
     "name": "stderr",
     "output_type": "stream",
     "text": [
      "  0%|          | 0/51 [00:00<?, ?it/s]"
     ]
    },
    {
     "name": "stdout",
     "output_type": "stream",
     "text": [
      "====> Average Training loss per image: 12700.7393\n",
      "====>Average  Test set loss per image : 1038.2386\n"
     ]
    },
    {
     "name": "stderr",
     "output_type": "stream",
     "text": [
      "  4%|▍         | 2/51 [07:19<2:58:59, 219.18s/it]"
     ]
    },
    {
     "name": "stdout",
     "output_type": "stream",
     "text": [
      "====> Average Training loss per image: 903.3270\n",
      "====>Average  Test set loss per image : 873.1646\n"
     ]
    },
    {
     "name": "stderr",
     "output_type": "stream",
     "text": [
      "  6%|▌         | 3/51 [09:50<2:30:18, 187.89s/it]"
     ]
    },
    {
     "name": "stdout",
     "output_type": "stream",
     "text": [
      "====> Average Training loss per image: 849.6873\n",
      "====>Average  Test set loss per image : 838.3408\n"
     ]
    },
    {
     "name": "stderr",
     "output_type": "stream",
     "text": [
      "  8%|▊         | 4/51 [11:16<1:55:49, 147.86s/it]"
     ]
    },
    {
     "name": "stdout",
     "output_type": "stream",
     "text": [
      "====> Average Training loss per image: 829.2068\n",
      "====>Average  Test set loss per image : 830.9742\n"
     ]
    },
    {
     "name": "stderr",
     "output_type": "stream",
     "text": [
      " 10%|▉         | 5/51 [12:49<1:38:09, 128.03s/it]"
     ]
    },
    {
     "name": "stdout",
     "output_type": "stream",
     "text": [
      "====> Average Training loss per image: 819.7134\n",
      "====>Average  Test set loss per image : 825.3022\n",
      "====> Average Training loss per image: 814.3991\n",
      "====>Average  Test set loss per image : 823.9450\n"
     ]
    },
    {
     "name": "stderr",
     "output_type": "stream",
     "text": [
      " 14%|█▎        | 7/51 [16:00<1:20:25, 109.67s/it]"
     ]
    },
    {
     "name": "stdout",
     "output_type": "stream",
     "text": [
      "====> Average Training loss per image: 811.1559\n",
      "====>Average  Test set loss per image : 818.9897\n"
     ]
    },
    {
     "name": "stderr",
     "output_type": "stream",
     "text": [
      " 16%|█▌        | 8/51 [17:44<1:17:15, 107.80s/it]"
     ]
    },
    {
     "name": "stdout",
     "output_type": "stream",
     "text": [
      "====> Average Training loss per image: 808.0668\n",
      "====>Average  Test set loss per image : 818.5603\n"
     ]
    },
    {
     "name": "stderr",
     "output_type": "stream",
     "text": [
      " 18%|█▊        | 9/51 [19:17<1:12:12, 103.16s/it]"
     ]
    },
    {
     "name": "stdout",
     "output_type": "stream",
     "text": [
      "====> Average Training loss per image: 805.7927\n",
      "====>Average  Test set loss per image : 816.0702\n"
     ]
    },
    {
     "name": "stderr",
     "output_type": "stream",
     "text": [
      " 20%|█▉        | 10/51 [20:48<1:07:51, 99.30s/it]"
     ]
    },
    {
     "name": "stdout",
     "output_type": "stream",
     "text": [
      "====> Average Training loss per image: 803.3680\n",
      "====>Average  Test set loss per image : 816.5469\n",
      "====> Average Training loss per image: 802.1848\n",
      "====>Average  Test set loss per image : 814.5528\n"
     ]
    },
    {
     "name": "stderr",
     "output_type": "stream",
     "text": [
      " 24%|██▎       | 12/51 [23:51<1:01:59, 95.37s/it]"
     ]
    },
    {
     "name": "stdout",
     "output_type": "stream",
     "text": [
      "====> Average Training loss per image: 799.9672\n",
      "====>Average  Test set loss per image : 816.2717\n"
     ]
    },
    {
     "name": "stderr",
     "output_type": "stream",
     "text": [
      " 25%|██▌       | 13/51 [25:24<59:52, 94.55s/it]  "
     ]
    },
    {
     "name": "stdout",
     "output_type": "stream",
     "text": [
      "====> Average Training loss per image: 798.7607\n",
      "====>Average  Test set loss per image : 814.2444\n"
     ]
    },
    {
     "name": "stderr",
     "output_type": "stream",
     "text": [
      " 27%|██▋       | 14/51 [27:23<1:02:48, 101.86s/it]"
     ]
    },
    {
     "name": "stdout",
     "output_type": "stream",
     "text": [
      "====> Average Training loss per image: 796.9359\n",
      "====>Average  Test set loss per image : 813.0868\n"
     ]
    },
    {
     "name": "stderr",
     "output_type": "stream",
     "text": [
      " 29%|██▉       | 15/51 [29:06<1:01:23, 102.33s/it]"
     ]
    },
    {
     "name": "stdout",
     "output_type": "stream",
     "text": [
      "====> Average Training loss per image: 795.9962\n",
      "====>Average  Test set loss per image : 814.1737\n",
      "====> Average Training loss per image: 794.5070\n",
      "====>Average  Test set loss per image : 813.3768\n"
     ]
    },
    {
     "name": "stderr",
     "output_type": "stream",
     "text": [
      " 33%|███▎      | 17/51 [32:48<1:00:14, 106.30s/it]"
     ]
    },
    {
     "name": "stdout",
     "output_type": "stream",
     "text": [
      "====> Average Training loss per image: 793.4977\n",
      "====>Average  Test set loss per image : 812.7985\n"
     ]
    },
    {
     "name": "stderr",
     "output_type": "stream",
     "text": [
      " 35%|███▌      | 18/51 [34:26<57:00, 103.66s/it]  "
     ]
    },
    {
     "name": "stdout",
     "output_type": "stream",
     "text": [
      "====> Average Training loss per image: 792.7556\n",
      "====>Average  Test set loss per image : 811.4799\n"
     ]
    },
    {
     "name": "stderr",
     "output_type": "stream",
     "text": [
      " 37%|███▋      | 19/51 [36:00<53:43, 100.75s/it]"
     ]
    },
    {
     "name": "stdout",
     "output_type": "stream",
     "text": [
      "====> Average Training loss per image: 791.4988\n",
      "====>Average  Test set loss per image : 811.1901\n"
     ]
    },
    {
     "name": "stderr",
     "output_type": "stream",
     "text": [
      " 39%|███▉      | 20/51 [37:46<52:54, 102.42s/it]"
     ]
    },
    {
     "name": "stdout",
     "output_type": "stream",
     "text": [
      "====> Average Training loss per image: 790.6263\n",
      "====>Average  Test set loss per image : 810.9479\n",
      "====> Average Training loss per image: 790.6467\n",
      "====>Average  Test set loss per image : 811.5554\n"
     ]
    },
    {
     "name": "stderr",
     "output_type": "stream",
     "text": [
      " 43%|████▎     | 22/51 [40:50<46:51, 96.96s/it] "
     ]
    },
    {
     "name": "stdout",
     "output_type": "stream",
     "text": [
      "====> Average Training loss per image: 789.3270\n",
      "====>Average  Test set loss per image : 810.5360\n"
     ]
    },
    {
     "name": "stderr",
     "output_type": "stream",
     "text": [
      " 45%|████▌     | 23/51 [42:23<44:48, 96.03s/it]"
     ]
    },
    {
     "name": "stdout",
     "output_type": "stream",
     "text": [
      "====> Average Training loss per image: 788.4156\n",
      "====>Average  Test set loss per image : 816.5990\n"
     ]
    },
    {
     "name": "stderr",
     "output_type": "stream",
     "text": [
      " 47%|████▋     | 24/51 [44:02<43:34, 96.82s/it]"
     ]
    },
    {
     "name": "stdout",
     "output_type": "stream",
     "text": [
      "====> Average Training loss per image: 788.2669\n",
      "====>Average  Test set loss per image : 810.9485\n"
     ]
    },
    {
     "name": "stderr",
     "output_type": "stream",
     "text": [
      " 49%|████▉     | 25/51 [45:57<44:16, 102.17s/it]"
     ]
    },
    {
     "name": "stdout",
     "output_type": "stream",
     "text": [
      "====> Average Training loss per image: 787.3672\n",
      "====>Average  Test set loss per image : 809.8998\n",
      "====> Average Training loss per image: 786.8851\n",
      "====>Average  Test set loss per image : 809.2906\n"
     ]
    },
    {
     "name": "stderr",
     "output_type": "stream",
     "text": [
      " 53%|█████▎    | 27/51 [49:06<39:13, 98.07s/it] "
     ]
    },
    {
     "name": "stdout",
     "output_type": "stream",
     "text": [
      "====> Average Training loss per image: 786.3557\n",
      "====>Average  Test set loss per image : 810.7039\n"
     ]
    },
    {
     "name": "stderr",
     "output_type": "stream",
     "text": [
      " 55%|█████▍    | 28/51 [50:36<36:41, 95.71s/it]"
     ]
    },
    {
     "name": "stdout",
     "output_type": "stream",
     "text": [
      "====> Average Training loss per image: 786.1844\n",
      "====>Average  Test set loss per image : 809.8346\n"
     ]
    },
    {
     "name": "stderr",
     "output_type": "stream",
     "text": [
      " 57%|█████▋    | 29/51 [52:13<35:12, 96.02s/it]"
     ]
    },
    {
     "name": "stdout",
     "output_type": "stream",
     "text": [
      "====> Average Training loss per image: 785.5862\n",
      "====>Average  Test set loss per image : 809.5517\n"
     ]
    },
    {
     "name": "stderr",
     "output_type": "stream",
     "text": [
      " 59%|█████▉    | 30/51 [53:47<33:25, 95.50s/it]"
     ]
    },
    {
     "name": "stdout",
     "output_type": "stream",
     "text": [
      "====> Average Training loss per image: 785.1697\n",
      "====>Average  Test set loss per image : 810.2721\n",
      "====> Average Training loss per image: 784.3052\n",
      "====>Average  Test set loss per image : 809.8050\n"
     ]
    },
    {
     "name": "stderr",
     "output_type": "stream",
     "text": [
      " 63%|██████▎   | 32/51 [56:59<30:18, 95.72s/it]"
     ]
    },
    {
     "name": "stdout",
     "output_type": "stream",
     "text": [
      "====> Average Training loss per image: 784.0118\n",
      "====>Average  Test set loss per image : 807.8113\n"
     ]
    },
    {
     "name": "stderr",
     "output_type": "stream",
     "text": [
      " 65%|██████▍   | 33/51 [58:33<28:32, 95.13s/it]"
     ]
    },
    {
     "name": "stdout",
     "output_type": "stream",
     "text": [
      "====> Average Training loss per image: 783.2954\n",
      "====>Average  Test set loss per image : 808.7734\n"
     ]
    },
    {
     "name": "stderr",
     "output_type": "stream",
     "text": [
      " 67%|██████▋   | 34/51 [1:00:08<26:55, 95.04s/it]"
     ]
    },
    {
     "name": "stdout",
     "output_type": "stream",
     "text": [
      "====> Average Training loss per image: 782.2690\n",
      "====>Average  Test set loss per image : 807.8252\n"
     ]
    },
    {
     "name": "stderr",
     "output_type": "stream",
     "text": [
      " 69%|██████▊   | 35/51 [1:01:40<25:08, 94.29s/it]"
     ]
    },
    {
     "name": "stdout",
     "output_type": "stream",
     "text": [
      "====> Average Training loss per image: 781.9730\n",
      "====>Average  Test set loss per image : 807.7324\n",
      "====> Average Training loss per image: 781.2726\n",
      "====>Average  Test set loss per image : 807.5506\n"
     ]
    },
    {
     "name": "stderr",
     "output_type": "stream",
     "text": [
      " 73%|███████▎  | 37/51 [1:04:58<22:37, 96.93s/it]"
     ]
    },
    {
     "name": "stdout",
     "output_type": "stream",
     "text": [
      "====> Average Training loss per image: 781.0241\n",
      "====>Average  Test set loss per image : 806.8541\n"
     ]
    },
    {
     "name": "stderr",
     "output_type": "stream",
     "text": [
      " 75%|███████▍  | 38/51 [1:06:33<20:55, 96.55s/it]"
     ]
    },
    {
     "name": "stdout",
     "output_type": "stream",
     "text": [
      "====> Average Training loss per image: 780.3611\n",
      "====>Average  Test set loss per image : 807.5167\n"
     ]
    },
    {
     "name": "stderr",
     "output_type": "stream",
     "text": [
      " 76%|███████▋  | 39/51 [1:08:05<18:59, 95.00s/it]"
     ]
    },
    {
     "name": "stdout",
     "output_type": "stream",
     "text": [
      "====> Average Training loss per image: 779.9898\n",
      "====>Average  Test set loss per image : 808.0031\n"
     ]
    },
    {
     "name": "stderr",
     "output_type": "stream",
     "text": [
      " 78%|███████▊  | 40/51 [1:09:35<17:10, 93.66s/it]"
     ]
    },
    {
     "name": "stdout",
     "output_type": "stream",
     "text": [
      "====> Average Training loss per image: 779.9245\n",
      "====>Average  Test set loss per image : 805.8574\n",
      "====> Average Training loss per image: 779.4595\n",
      "====>Average  Test set loss per image : 805.7570\n"
     ]
    },
    {
     "name": "stderr",
     "output_type": "stream",
     "text": [
      " 82%|████████▏ | 42/51 [1:12:59<14:38, 97.61s/it]"
     ]
    },
    {
     "name": "stdout",
     "output_type": "stream",
     "text": [
      "====> Average Training loss per image: 778.9993\n",
      "====>Average  Test set loss per image : 805.6882\n"
     ]
    },
    {
     "name": "stderr",
     "output_type": "stream",
     "text": [
      " 84%|████████▍ | 43/51 [1:14:29<12:44, 95.59s/it]"
     ]
    },
    {
     "name": "stdout",
     "output_type": "stream",
     "text": [
      "====> Average Training loss per image: 778.3010\n",
      "====>Average  Test set loss per image : 806.8975\n"
     ]
    },
    {
     "name": "stderr",
     "output_type": "stream",
     "text": [
      " 86%|████████▋ | 44/51 [1:16:00<10:58, 94.03s/it]"
     ]
    },
    {
     "name": "stdout",
     "output_type": "stream",
     "text": [
      "====> Average Training loss per image: 778.1396\n",
      "====>Average  Test set loss per image : 805.2628\n"
     ]
    },
    {
     "name": "stderr",
     "output_type": "stream",
     "text": [
      " 88%|████████▊ | 45/51 [1:17:34<09:23, 93.97s/it]"
     ]
    },
    {
     "name": "stdout",
     "output_type": "stream",
     "text": [
      "====> Average Training loss per image: 777.4654\n",
      "====>Average  Test set loss per image : 806.4988\n",
      "====> Average Training loss per image: 777.2419\n",
      "====>Average  Test set loss per image : 804.0817\n"
     ]
    },
    {
     "name": "stderr",
     "output_type": "stream",
     "text": [
      " 92%|█████████▏| 47/51 [1:20:40<06:13, 93.49s/it]"
     ]
    },
    {
     "name": "stdout",
     "output_type": "stream",
     "text": [
      "====> Average Training loss per image: 776.7424\n",
      "====>Average  Test set loss per image : 806.0444\n"
     ]
    },
    {
     "name": "stderr",
     "output_type": "stream",
     "text": [
      " 94%|█████████▍| 48/51 [1:22:15<04:42, 94.03s/it]"
     ]
    },
    {
     "name": "stdout",
     "output_type": "stream",
     "text": [
      "====> Average Training loss per image: 775.7789\n",
      "====>Average  Test set loss per image : 805.1190\n"
     ]
    },
    {
     "name": "stderr",
     "output_type": "stream",
     "text": [
      " 96%|█████████▌| 49/51 [1:23:48<03:07, 93.83s/it]"
     ]
    },
    {
     "name": "stdout",
     "output_type": "stream",
     "text": [
      "====> Average Training loss per image: 775.5804\n",
      "====>Average  Test set loss per image : 806.0455\n"
     ]
    },
    {
     "name": "stderr",
     "output_type": "stream",
     "text": [
      " 98%|█████████▊| 50/51 [1:25:20<01:33, 93.12s/it]"
     ]
    },
    {
     "name": "stdout",
     "output_type": "stream",
     "text": [
      "====> Average Training loss per image: 775.1098\n",
      "====>Average  Test set loss per image : 805.0293\n",
      "====> Average Training loss per image: 774.6528\n",
      "====>Average  Test set loss per image : 803.1624\n"
     ]
    },
    {
     "name": "stderr",
     "output_type": "stream",
     "text": [
      "100%|██████████| 51/51 [1:26:58<00:00, 102.32s/it]\n"
     ]
    }
   ],
   "source": [
    "epochs = 51\n",
    "train_losses = []\n",
    "test_losses = []\n",
    "for epoch in tqdm(range(epochs)):  # loop over the dataset multiple times\n",
    "    # Train on data\n",
    "    train_loss = train_vae(train_loader, model, optimizer, device)\n",
    "    test_loss = test(epoch, model, test_loader)\n",
    "    print('====> Average Training loss per image: {:.4f}'.format(train_loss.item()))\n",
    "    print('====>Average  Test set loss per image : {:.4f}'.format(test_loss))\n",
    "    if epoch % 5 == 0:\n",
    "        torch.save(model.state_dict(), \"../model/50_no_SR\" + str(epoch) + \".pt\")\n",
    "        with torch.no_grad():\n",
    "            sample = torch.randn(batch_size, latent_space).to(device)\n",
    "            sample = model.decoder(sample).cpu()\n",
    "            save_image(sample.view(batch_size, 1, 100, 100),\n",
    "                       '../results/' + str(epoch) + '.png')\n",
    "    train_losses.append(train_loss.cpu().detach().numpy())\n",
    "    test_losses.append(test_loss)"
   ],
   "metadata": {
    "collapsed": false,
    "ExecuteTime": {
     "end_time": "2023-06-06T11:03:47.595933300Z",
     "start_time": "2023-06-06T09:36:49.272184400Z"
    }
   }
  },
  {
   "cell_type": "code",
   "execution_count": 25,
   "outputs": [
    {
     "data": {
      "text/plain": "<Figure size 640x480 with 1 Axes>",
      "image/png": "[encoded data removed]"
     },
     "metadata": {},
     "output_type": "display_data"
    }
   ],
   "source": [
    "plt.plot(train_losses, label=\"training\")\n",
    "plt.plot(test_losses, label=\"validation\")\n",
    "plt.legend()\n",
    "plt.show()"
   ],
   "metadata": {
    "collapsed": false,
    "ExecuteTime": {
     "end_time": "2023-06-06T11:03:48.013069500Z",
     "start_time": "2023-06-06T11:03:47.589950200Z"
    }
   }
  }
 ],
 "metadata": {
  "kernelspec": {
   "display_name": "Python 3",
   "language": "python",
   "name": "python3"
  },
  "language_info": {
   "codemirror_mode": {
    "name": "ipython",
    "version": 3
   },
   "file_extension": ".py",
   "mimetype": "text/x-python",
   "name": "python",
   "nbconvert_exporter": "python",
   "pygments_lexer": "ipython3",
   "version": "3.6.4"
  }
 },
 "nbformat": 4,
 "nbformat_minor": 2
}
