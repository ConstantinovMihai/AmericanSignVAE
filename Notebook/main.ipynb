{
 "cells": [
  {
   "cell_type": "code",
   "execution_count": 1,
   "metadata": {
    "ExecuteTime": {
     "end_time": "2023-05-23T13:22:24.365260300Z",
     "start_time": "2023-05-23T13:22:15.738463200Z"
    }
   },
   "outputs": [],
   "source": [
    "import matplotlib.pyplot as plt\n",
    "import torch\n",
    "import torch.nn.functional as F\n",
    "import torch.optim as optim\n",
    "from torch.utils.data import TensorDataset\n",
    "from torchvision import transforms\n",
    "from torchvision.utils import save_image\n",
    "from tqdm import tqdm\n",
    "%run ConV_VAE.ipynb\n",
    "%run loader.ipynb\n",
    "%run test.ipynb\n",
    "%run train.ipynb"
   ]
  },
  {
   "cell_type": "code",
   "execution_count": 2,
   "metadata": {
    "ExecuteTime": {
     "end_time": "2023-05-23T13:22:24.380879400Z",
     "start_time": "2023-05-23T13:22:24.365260300Z"
    }
   },
   "outputs": [],
   "source": [
    "plt.rcParams['figure.dpi'] = 100\n",
    "device = 'cuda' if torch.cuda.is_available() else 'cpu'\n",
    "####### IMPORTANT ######\n",
    "# set this flag to true if you want to load the model beforehand\n",
    "load = False\n",
    "# specify which model you want to load\n",
    "model_name = None"
   ]
  },
  {
   "cell_type": "code",
   "execution_count": 3,
   "metadata": {
    "ExecuteTime": {
     "end_time": "2023-05-23T13:22:27.879332Z",
     "start_time": "2023-05-23T13:22:24.380879400Z"
    }
   },
   "outputs": [],
   "source": [
    "normalize = transforms.Normalize(160, 50)\n",
    "transform = transforms.Compose([\n",
    "    transforms.ToTensor(),\n",
    "    normalize\n",
    "])\n",
    "train_data = CustomImageDataset('../data/sign_mnist_train.csv', transform=transform)\n",
    "test_data = CustomImageDataset('../data/sign_mnist_test.csv')"
   ]
  },
  {
   "cell_type": "code",
   "execution_count": 4,
   "metadata": {
    "ExecuteTime": {
     "end_time": "2023-05-23T13:22:27.894956300Z",
     "start_time": "2023-05-23T13:22:27.879332Z"
    }
   },
   "outputs": [],
   "source": [
    "train_loader = torch.utils.data.DataLoader(train_data, batch_size=128, shuffle=True)\n",
    "test_loader = torch.utils.data.DataLoader(test_data, batch_size=128, shuffle=True)"
   ]
  },
  {
   "cell_type": "code",
   "execution_count": 5,
   "metadata": {
    "ExecuteTime": {
     "end_time": "2023-05-23T13:22:28.144926300Z",
     "start_time": "2023-05-23T13:22:27.894956300Z"
    }
   },
   "outputs": [],
   "source": [
    "model = ConvVarAutoencoder().to(device)\n",
    "if (load):\n",
    "    model.load_state_dict(torch.load(model_name, map_location=device))\n",
    "\n",
    "criterion = F.mse_loss\n",
    "optimizer = optim.Adam(model.parameters(), lr=1e-3, weight_decay=0.1)"
   ]
  },
  {
   "cell_type": "code",
   "execution_count": null,
   "outputs": [
    {
     "name": "stderr",
     "output_type": "stream",
     "text": [
      "  7%|▋         | 1/15 [00:18<04:19, 18.53s/it]"
     ]
    },
    {
     "name": "stdout",
     "output_type": "stream",
     "text": [
      "====> Training loss: 146958.421875 KL Divergence 17318624.0\n",
      "====> Test set loss: 3345436771.5088\n"
     ]
    },
    {
     "name": "stderr",
     "output_type": "stream",
     "text": [
      " 13%|█▎        | 2/15 [00:35<03:47, 17.53s/it]"
     ]
    },
    {
     "name": "stdout",
     "output_type": "stream",
     "text": [
      "====> Training loss: 139178.65625 KL Divergence 2030633.75\n",
      "====> Test set loss: 2988848097.5439\n"
     ]
    },
    {
     "name": "stderr",
     "output_type": "stream",
     "text": [
      " 20%|██        | 3/15 [00:52<03:30, 17.55s/it]"
     ]
    },
    {
     "name": "stdout",
     "output_type": "stream",
     "text": [
      "====> Training loss: 124668.0390625 KL Divergence 1910223.875\n",
      "====> Test set loss: 2937796903.0175\n"
     ]
    },
    {
     "name": "stderr",
     "output_type": "stream",
     "text": [
      " 27%|██▋       | 4/15 [01:10<03:14, 17.64s/it]"
     ]
    },
    {
     "name": "stdout",
     "output_type": "stream",
     "text": [
      "====> Training loss: 122220.6796875 KL Divergence 2227604.5\n",
      "====> Test set loss: 2874950818.6667\n"
     ]
    },
    {
     "name": "stderr",
     "output_type": "stream",
     "text": [
      " 33%|███▎      | 5/15 [01:28<02:56, 17.66s/it]"
     ]
    },
    {
     "name": "stdout",
     "output_type": "stream",
     "text": [
      "====> Training loss: 120757.2578125 KL Divergence 2456443.0\n",
      "====> Test set loss: 2864227690.9474\n"
     ]
    },
    {
     "name": "stderr",
     "output_type": "stream",
     "text": [
      " 40%|████      | 6/15 [01:47<02:43, 18.12s/it]"
     ]
    },
    {
     "name": "stdout",
     "output_type": "stream",
     "text": [
      "====> Training loss: 119842.0703125 KL Divergence 2469235.5\n",
      "====> Test set loss: 2831117308.0702\n"
     ]
    },
    {
     "name": "stderr",
     "output_type": "stream",
     "text": [
      " 47%|████▋     | 7/15 [02:06<02:26, 18.37s/it]"
     ]
    },
    {
     "name": "stdout",
     "output_type": "stream",
     "text": [
      "====> Training loss: 119006.2109375 KL Divergence 2743234.5\n",
      "====> Test set loss: 2792013974.8772\n"
     ]
    },
    {
     "name": "stderr",
     "output_type": "stream",
     "text": [
      " 53%|█████▎    | 8/15 [02:26<02:12, 18.94s/it]"
     ]
    },
    {
     "name": "stdout",
     "output_type": "stream",
     "text": [
      "====> Training loss: 118435.8359375 KL Divergence 2734568.5\n",
      "====> Test set loss: 2734051389.6140\n"
     ]
    },
    {
     "name": "stderr",
     "output_type": "stream",
     "text": [
      " 60%|██████    | 9/15 [02:44<01:52, 18.78s/it]"
     ]
    },
    {
     "name": "stdout",
     "output_type": "stream",
     "text": [
      "====> Training loss: 117781.5078125 KL Divergence 2680895.5\n",
      "====> Test set loss: 2586329314.6667\n"
     ]
    },
    {
     "name": "stderr",
     "output_type": "stream",
     "text": [
      " 67%|██████▋   | 10/15 [03:03<01:33, 18.75s/it]"
     ]
    },
    {
     "name": "stdout",
     "output_type": "stream",
     "text": [
      "====> Training loss: 117267.375 KL Divergence 2258320.25\n",
      "====> Test set loss: 2635696689.8246\n"
     ]
    },
    {
     "name": "stderr",
     "output_type": "stream",
     "text": [
      " 73%|███████▎  | 11/15 [03:21<01:14, 18.60s/it]"
     ]
    },
    {
     "name": "stdout",
     "output_type": "stream",
     "text": [
      "====> Training loss: 117002.8125 KL Divergence 2646716.25\n",
      "====> Test set loss: 2518869624.7018\n"
     ]
    },
    {
     "name": "stderr",
     "output_type": "stream",
     "text": [
      " 80%|████████  | 12/15 [03:40<00:56, 18.73s/it]"
     ]
    },
    {
     "name": "stdout",
     "output_type": "stream",
     "text": [
      "====> Training loss: 116591.4765625 KL Divergence 1966671.625\n",
      "====> Test set loss: 2462845769.2632\n"
     ]
    }
   ],
   "source": [
    "epochs = 15\n",
    "train_losses = []\n",
    "test_losses = []\n",
    "for epoch in tqdm(range(epochs)):  # loop over the dataset multiple times\n",
    "    # Train on data\n",
    "    train_loss = train_vae(train_loader, model, optimizer, device)\n",
    "    test_loss = test(epoch, model, test_loader)\n",
    "    print('====> Training loss: {train} KL Divergence {kl}'.format(train=train_loss.item(),kl=model.encoder.kl.item()))\n",
    "    print('====> Test set loss: {:.4f}'.format(test_loss))\n",
    "    if epoch % 10 == 0:\n",
    "        torch.save(model.state_dict(), \"../model/model\" + str(epoch) + \".pt\")\n",
    "        with torch.no_grad():\n",
    "            sample = torch.randn(64, 2048).to(device)\n",
    "            sample = model.decoder(sample).cpu()\n",
    "            save_image(sample.view(64, 1, 28, 28),\n",
    "                       '../results/' + str(epoch) + '.png')\n",
    "    train_losses.append(train_loss.cpu().detach().numpy())\n",
    "    test_losses.append(test_loss)"
   ],
   "metadata": {
    "collapsed": false,
    "is_executing": true,
    "ExecuteTime": {
     "start_time": "2023-05-23T13:22:28.144926300Z"
    }
   }
  },
  {
   "cell_type": "code",
   "execution_count": null,
   "outputs": [],
   "source": [
    "plt.plot(train_losses)\n",
    "plt.plot(test_losses)\n",
    "plt.show()"
   ],
   "metadata": {
    "collapsed": false,
    "is_executing": true
   }
  }
 ],
 "metadata": {
  "kernelspec": {
   "display_name": "Python 3",
   "language": "python",
   "name": "python3"
  },
  "language_info": {
   "codemirror_mode": {
    "name": "ipython",
    "version": 3
   },
   "file_extension": ".py",
   "mimetype": "text/x-python",
   "name": "python",
   "nbconvert_exporter": "python",
   "pygments_lexer": "ipython3",
   "version": "3.6.4"
  }
 },
 "nbformat": 4,
 "nbformat_minor": 2
}
