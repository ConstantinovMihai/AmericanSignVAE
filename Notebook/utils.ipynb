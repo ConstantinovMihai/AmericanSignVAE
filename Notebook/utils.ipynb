{
 "cells": [
  {
   "cell_type": "code",
   "execution_count": 1,
   "metadata": {
    "ExecuteTime": {
     "end_time": "2023-05-23T12:28:39.810522400Z",
     "start_time": "2023-05-23T12:28:36.224316100Z"
    }
   },
   "outputs": [],
   "source": [
    "import matplotlib.pyplot as plt\n",
    "import numpy as np\n",
    "import torch"
   ]
  },
  {
   "cell_type": "code",
   "execution_count": 2,
   "metadata": {
    "ExecuteTime": {
     "end_time": "2023-05-23T12:28:40.106180900Z",
     "start_time": "2023-05-23T12:28:39.810522400Z"
    }
   },
   "outputs": [],
   "source": [
    "plt.rcParams['figure.dpi'] = 200\n",
    "device = 'cuda' if torch.cuda.is_available() else 'cpu'"
   ]
  },
  {
   "cell_type": "code",
   "execution_count": 3,
   "metadata": {
    "ExecuteTime": {
     "end_time": "2023-05-23T12:28:40.121803200Z",
     "start_time": "2023-05-23T12:28:40.106180900Z"
    }
   },
   "outputs": [],
   "source": [
    "def try_gpu():\n",
    "    \"\"\"\n",
    "    If GPU is available, return torch.device as cuda:0; else return torch.device\n",
    "    as cpu.\n",
    "    \"\"\"\n",
    "    if torch.cuda.is_available():\n",
    "        device = torch.device('cuda:0')\n",
    "    else:\n",
    "        device = torch.device('cpu')\n",
    "    return device"
   ]
  },
  {
   "cell_type": "markdown",
   "metadata": {},
   "source": [
    "plot latent space"
   ]
  },
  {
   "cell_type": "code",
   "execution_count": 1,
   "metadata": {
    "ExecuteTime": {
     "end_time": "2023-05-29T11:25:43.466234600Z",
     "start_time": "2023-05-29T11:25:42.778861600Z"
    }
   },
   "outputs": [
    {
     "ename": "NameError",
     "evalue": "name 'device' is not defined",
     "output_type": "error",
     "traceback": [
      "\u001B[1;31m---------------------------------------------------------------------------\u001B[0m",
      "\u001B[1;31mNameError\u001B[0m                                 Traceback (most recent call last)",
      "Cell \u001B[1;32mIn[1], line 1\u001B[0m\n\u001B[1;32m----> 1\u001B[0m \u001B[38;5;28;01mdef\u001B[39;00m \u001B[38;5;21mplot_latent\u001B[39m(model, data_loader, num_batches\u001B[38;5;241m=\u001B[39m\u001B[38;5;241m100\u001B[39m, device\u001B[38;5;241m=\u001B[39m\u001B[43mdevice\u001B[49m):\n\u001B[0;32m      2\u001B[0m     \u001B[38;5;124;03m'''\u001B[39;00m\n\u001B[0;32m      3\u001B[0m \u001B[38;5;124;03m    Plots position of data in latent space (which is either 2D or 3D)\u001B[39;00m\n\u001B[0;32m      4\u001B[0m \u001B[38;5;124;03m    Args:\u001B[39;00m\n\u001B[1;32m   (...)\u001B[0m\n\u001B[0;32m      7\u001B[0m \u001B[38;5;124;03m      num_batches: number of batches to use in for the plot\u001B[39;00m\n\u001B[0;32m      8\u001B[0m \u001B[38;5;124;03m    '''\u001B[39;00m\n\u001B[0;32m      9\u001B[0m     \u001B[38;5;66;03m# Iterate over all data\u001B[39;00m\n",
      "\u001B[1;31mNameError\u001B[0m: name 'device' is not defined"
     ]
    }
   ],
   "source": [
    "def plot_latent(model, data_loader, num_batches=100, device=device):\n",
    "    '''\n",
    "    Plots position of data in latent space (which is either 2D or 3D)\n",
    "    Args:\n",
    "      autoencoder: pytorch network that contains an encoder subnetwork\n",
    "      data_loader: the data we want to plot in latent space\n",
    "      num_batches: number of batches to use in for the plot\n",
    "    '''\n",
    "    # Iterate over all data\n",
    "    plt.rcParams['figure.figsize'] = (5, 3)\n",
    "    plt.rcParams['figure.dpi'] = 144\n",
    "    for idx, data in enumerate(data_loader):\n",
    "        x, y = data\n",
    "        z = model.encoder(x.to(device))\n",
    "        # Encode image data\n",
    "        z = z.to('cpu').detach().numpy()  # Get numpy version of data in latent space\n",
    "\n",
    "        # 2D latent space (single image)\n",
    "        if np.size(z, axis=1) == 2:\n",
    "            plt.scatter(z[:, 0], z[:, 1], c=y, cmap='tab10')  # Add data to plot\n",
    "\n",
    "        # ------------------------------------------------------------------------\n",
    "        # 3D latent space (4 images: 3D image, and 3 x 2D projections onto xy, xz\n",
    "        # and yz)\n",
    "        if np.size(z, axis=1) == 3:\n",
    "            if idx == 0:  # initialize at first iteration\n",
    "                plt.rcParams['figure.figsize'] = (5, 5)\n",
    "                fig1 = plt.figure()\n",
    "                plt.rcParams['figure.figsize'] = (15, 5)\n",
    "                fig2 = plt.figure()\n",
    "                ax1 = fig1.add_subplot(1, 1, 1, projection='3d')\n",
    "                ax2 = fig2.add_subplot(1, 3, 1)\n",
    "                ax3 = fig2.add_subplot(1, 3, 2)\n",
    "                ax4 = fig2.add_subplot(1, 3, 3)\n",
    "                ax1.grid(False)\n",
    "                # Hide axes ticks\n",
    "                ax1.set_xticks([])\n",
    "                ax1.set_yticks([])\n",
    "                ax1.set_zticks([])\n",
    "                # set labels\n",
    "                ax1.set_xlabel('dimension 1')\n",
    "                ax1.set_ylabel('dimension 2')\n",
    "                ax1.set_zlabel('dimension 3')\n",
    "                ax2.set_xlabel('dimension 1')\n",
    "                ax2.set_ylabel('dimension 2')\n",
    "                ax3.set_xlabel('dimension 1')\n",
    "                ax3.set_ylabel('dimension 3')\n",
    "                ax4.set_xlabel('dimension 2')\n",
    "                ax4.set_ylabel('dimension 3')\n",
    "            ax1.scatter3D(z[:, 0], z[:, 1], z[:, 2], c=y, cmap='tab10');\n",
    "            ax2.scatter(z[:, 0], z[:, 1], c=y, cmap='tab10');\n",
    "            ax3.scatter(z[:, 0], z[:, 2], c=y, cmap='tab10');\n",
    "            ax4.scatter(z[:, 1], z[:, 2], c=y, cmap='tab10');\n",
    "            if idx > num_batches:\n",
    "                fig1.tight_layout()\n",
    "                fig2.tight_layout()\n",
    "\n",
    "        # Stop if we've reach the maximum number of batches\n",
    "        if idx > num_batches:\n",
    "            if np.size(z, axis=1) == 2:\n",
    "                plt.colorbar()\n",
    "            break"
   ]
  },
  {
   "cell_type": "code",
   "execution_count": null,
   "outputs": [],
   "source": [
    "class EarlyStop:\n",
    "    \"\"\"Used to early stop the training if validation loss doesn't improve after a given patience.\"\"\"\n",
    "    def __init__(self, patience=20, verbose=False, delta=0,\n",
    "                 save_name=\"checkpoint.pt\"):\n",
    "        \"\"\"\n",
    "        Args:\n",
    "            patience (int): How long to wait after last time validation loss improved.\n",
    "                            Default: 20\n",
    "            verbose (bool): If True, prints a message for each validation loss improvement.\n",
    "                            Default: False\n",
    "            delta (float): Minimum change in the monitored quantity to qualify as an improvement.\n",
    "                            Default: 0\n",
    "            save_name (string): The filename with which the model and the optimizer is saved when improved.\n",
    "                            Default: \"checkpoint.pt\"\n",
    "        \"\"\"\n",
    "        self.patience = patience\n",
    "        self.verbose = verbose\n",
    "        self.save_name = save_name\n",
    "        self.counter = 0\n",
    "        self.best_score = None\n",
    "        self.early_stop = False\n",
    "        self.val_loss_min = np.Inf\n",
    "        self.delta = delta\n",
    "\n",
    "    def __call__(self, val_loss, model, optimizer):\n",
    "\n",
    "        score = -val_loss\n",
    "\n",
    "        if self.best_score is None:\n",
    "            self.best_score = score\n",
    "            self.save_checkpoint(val_loss, model, optimizer)\n",
    "        elif score < self.best_score - self.delta:\n",
    "            self.counter += 1\n",
    "            print(f'EarlyStopping counter: {self.counter} out of {self.patience}')\n",
    "            if self.counter >= self.patience:\n",
    "                self.early_stop = True\n",
    "        else:\n",
    "            self.best_score = score\n",
    "            self.save_checkpoint(val_loss, model, optimizer)\n",
    "            self.counter = 0\n",
    "\n",
    "        return self.early_stop\n",
    "\n",
    "    def save_checkpoint(self, val_loss, model, optimizer):\n",
    "        '''Saves model when validation loss decrease.'''\n",
    "        if self.verbose:\n",
    "            print(f'Validation loss decreased ({self.val_loss_min:.6f} --> {val_loss:.6f}).  Saving model ...')\n",
    "        state = {\"net\":model.state_dict(), \"optimizer\":optimizer.state_dict()}\n",
    "        torch.save(state, self.save_name)\n",
    "        self.val_loss_min = val_loss\n",
    "        print(\"model saved\")"
   ],
   "metadata": {
    "collapsed": false
   }
  },
  {
   "cell_type": "code",
   "execution_count": null,
   "outputs": [],
   "source": [],
   "metadata": {
    "collapsed": false
   }
  }
 ],
 "metadata": {
  "kernelspec": {
   "display_name": "Python 3",
   "language": "python",
   "name": "python3"
  },
  "language_info": {
   "codemirror_mode": {
    "name": "ipython",
    "version": 3
   },
   "file_extension": ".py",
   "mimetype": "text/x-python",
   "name": "python",
   "nbconvert_exporter": "python",
   "pygments_lexer": "ipython3",
   "version": "3.6.4"
  }
 },
 "nbformat": 4,
 "nbformat_minor": 2
}
