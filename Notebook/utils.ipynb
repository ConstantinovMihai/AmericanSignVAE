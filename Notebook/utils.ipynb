{
 "cells": [
  {
   "cell_type": "code",
   "execution_count": 1,
   "metadata": {
    "ExecuteTime": {
     "end_time": "2023-05-23T12:28:39.810522400Z",
     "start_time": "2023-05-23T12:28:36.224316100Z"
    }
   },
   "outputs": [],
   "source": [
    "import matplotlib.pyplot as plt\n",
    "import numpy as np\n",
    "import torch"
   ]
  },
  {
   "cell_type": "code",
   "execution_count": 2,
   "metadata": {
    "ExecuteTime": {
     "end_time": "2023-05-23T12:28:40.106180900Z",
     "start_time": "2023-05-23T12:28:39.810522400Z"
    }
   },
   "outputs": [],
   "source": [
    "plt.rcParams['figure.dpi'] = 200\n",
    "device = 'cuda' if torch.cuda.is_available() else 'cpu'"
   ]
  },
  {
   "cell_type": "code",
   "execution_count": 3,
   "metadata": {
    "ExecuteTime": {
     "end_time": "2023-05-23T12:28:40.121803200Z",
     "start_time": "2023-05-23T12:28:40.106180900Z"
    }
   },
   "outputs": [],
   "source": [
    "def try_gpu():\n",
    "    \"\"\"\n",
    "    If GPU is available, return torch.device as cuda:0; else return torch.device\n",
    "    as cpu.\n",
    "    \"\"\"\n",
    "    if torch.cuda.is_available():\n",
    "        device = torch.device('cuda:0')\n",
    "    else:\n",
    "        device = torch.device('cpu')\n",
    "    return device"
   ]
  },
  {
   "cell_type": "markdown",
   "metadata": {},
   "source": [
    "plot latent space"
   ]
  },
  {
   "cell_type": "code",
   "execution_count": 4,
   "metadata": {
    "ExecuteTime": {
     "end_time": "2023-05-23T12:28:40.153048100Z",
     "start_time": "2023-05-23T12:28:40.137427100Z"
    }
   },
   "outputs": [],
   "source": [
    "def plot_latent(model, data_loader, num_batches=100, device=device):\n",
    "    '''\n",
    "    Plots position of data in latent space (which is either 2D or 3D)\n",
    "    Args:\n",
    "      autoencoder: pytorch network that contains an encoder subnetwork\n",
    "      data_loader: the data we want to plot in latent space\n",
    "      num_batches: number of batches to use in for the plot\n",
    "    '''\n",
    "    # Iterate over all data\n",
    "    plt.rcParams['figure.figsize'] = (5, 3)\n",
    "    plt.rcParams['figure.dpi'] = 144\n",
    "    for idx, data in enumerate(data_loader):\n",
    "        x, y = data\n",
    "        z = model.encoder(x.to(device))\n",
    "        # Encode image data\n",
    "        z = z.to('cpu').detach().numpy()  # Get numpy version of data in latent space\n",
    "\n",
    "        # 2D latent space (single image)\n",
    "        if np.size(z, axis=1) == 2:\n",
    "            plt.scatter(z[:, 0], z[:, 1], c=y, cmap='tab10')  # Add data to plot\n",
    "\n",
    "        # ------------------------------------------------------------------------\n",
    "        # 3D latent space (4 images: 3D image, and 3 x 2D projections onto xy, xz\n",
    "        # and yz)\n",
    "        if np.size(z, axis=1) == 3:\n",
    "            if idx == 0:  # initialize at first iteration\n",
    "                plt.rcParams['figure.figsize'] = (5, 5)\n",
    "                fig1 = plt.figure()\n",
    "                plt.rcParams['figure.figsize'] = (15, 5)\n",
    "                fig2 = plt.figure()\n",
    "                ax1 = fig1.add_subplot(1, 1, 1, projection='3d')\n",
    "                ax2 = fig2.add_subplot(1, 3, 1)\n",
    "                ax3 = fig2.add_subplot(1, 3, 2)\n",
    "                ax4 = fig2.add_subplot(1, 3, 3)\n",
    "                ax1.grid(False)\n",
    "                # Hide axes ticks\n",
    "                ax1.set_xticks([])\n",
    "                ax1.set_yticks([])\n",
    "                ax1.set_zticks([])\n",
    "                # set labels\n",
    "                ax1.set_xlabel('dimension 1')\n",
    "                ax1.set_ylabel('dimension 2')\n",
    "                ax1.set_zlabel('dimension 3')\n",
    "                ax2.set_xlabel('dimension 1')\n",
    "                ax2.set_ylabel('dimension 2')\n",
    "                ax3.set_xlabel('dimension 1')\n",
    "                ax3.set_ylabel('dimension 3')\n",
    "                ax4.set_xlabel('dimension 2')\n",
    "                ax4.set_ylabel('dimension 3')\n",
    "            ax1.scatter3D(z[:, 0], z[:, 1], z[:, 2], c=y, cmap='tab10');\n",
    "            ax2.scatter(z[:, 0], z[:, 1], c=y, cmap='tab10');\n",
    "            ax3.scatter(z[:, 0], z[:, 2], c=y, cmap='tab10');\n",
    "            ax4.scatter(z[:, 1], z[:, 2], c=y, cmap='tab10');\n",
    "            if idx > num_batches:\n",
    "                fig1.tight_layout()\n",
    "                fig2.tight_layout()\n",
    "\n",
    "        # Stop if we've reach the maximum number of batches\n",
    "        if idx > num_batches:\n",
    "            if np.size(z, axis=1) == 2:\n",
    "                plt.colorbar()\n",
    "            break"
   ]
  }
 ],
 "metadata": {
  "kernelspec": {
   "display_name": "Python 3",
   "language": "python",
   "name": "python3"
  },
  "language_info": {
   "codemirror_mode": {
    "name": "ipython",
    "version": 3
   },
   "file_extension": ".py",
   "mimetype": "text/x-python",
   "name": "python",
   "nbconvert_exporter": "python",
   "pygments_lexer": "ipython3",
   "version": "3.6.4"
  }
 },
 "nbformat": 4,
 "nbformat_minor": 2
}
