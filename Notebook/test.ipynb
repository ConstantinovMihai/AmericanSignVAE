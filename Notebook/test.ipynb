{
 "cells": [
  {
   "cell_type": "code",
   "execution_count": 47,
   "metadata": {
    "ExecuteTime": {
     "end_time": "2023-05-23T13:00:08.170087Z",
     "start_time": "2023-05-23T13:00:08.154431200Z"
    }
   },
   "outputs": [],
   "source": [
    "import numpy as np\n",
    "import torch\n",
    "from torchvision.utils import save_image"
   ]
  },
  {
   "cell_type": "code",
   "execution_count": 48,
   "metadata": {
    "ExecuteTime": {
     "end_time": "2023-05-23T13:00:08.232682700Z",
     "start_time": "2023-05-23T13:00:08.170087Z"
    }
   },
   "outputs": [],
   "source": [
    "%run ConV_VAE.ipynb\n",
    "%run loader.ipynb"
   ]
  },
  {
   "cell_type": "code",
   "execution_count": 49,
   "metadata": {
    "ExecuteTime": {
     "end_time": "2023-05-23T13:00:08.232682700Z",
     "start_time": "2023-05-23T13:00:08.232682700Z"
    }
   },
   "outputs": [],
   "source": [
    "device = 'cuda'"
   ]
  },
  {
   "cell_type": "code",
   "execution_count": 50,
   "metadata": {
    "ExecuteTime": {
     "end_time": "2023-05-23T13:00:08.250305900Z",
     "start_time": "2023-05-23T13:00:08.232682700Z"
    }
   },
   "outputs": [],
   "source": [
    "def test(epoch, model, loader):\n",
    "    model.eval()\n",
    "    test_losses = []\n",
    "    with torch.no_grad():\n",
    "        for i, data in enumerate(loader):\n",
    "            #data = data.transpose(0,1)\n",
    "            inputs, labels = data\n",
    "            inputs = inputs.to(device)\n",
    "            #inputs = inputs.unsqueeze(dim=0).transpose(0, 1)\n",
    "            recon_batch = model(inputs)\n",
    "            test_loss = ((inputs - recon_batch) ** 2).sum() + model.encoder.kl\n",
    "            test_losses.append(test_loss.item())\n",
    "            if i == 0:\n",
    "                n = min(inputs.size(0), 8)\n",
    "                comparison = torch.cat([inputs[:n],\n",
    "                                        recon_batch.view(128, 1, 28, 28)[:n]])\n",
    "                save_image(comparison.cpu(),\n",
    "                           '../results/reconstruction/' + str(epoch) + '.png', nrow=n)\n",
    "    return np.mean(test_losses)"
   ]
  }
 ],
 "metadata": {
  "kernelspec": {
   "display_name": "Python 3",
   "language": "python",
   "name": "python3"
  },
  "language_info": {
   "codemirror_mode": {
    "name": "ipython",
    "version": 3
   },
   "file_extension": ".py",
   "mimetype": "text/x-python",
   "name": "python",
   "nbconvert_exporter": "python",
   "pygments_lexer": "ipython3",
   "version": "3.6.4"
  }
 },
 "nbformat": 4,
 "nbformat_minor": 2
}
