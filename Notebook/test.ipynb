{
 "cells": [
  {
   "cell_type": "code",
   "execution_count": 47,
   "metadata": {
    "ExecuteTime": {
     "end_time": "2023-05-23T13:00:08.170087Z",
     "start_time": "2023-05-23T13:00:08.154431200Z"
    }
   },
   "outputs": [],
   "source": [
    "import numpy as np\n",
    "import torch\n",
    "from torchvision.utils import save_image"
   ]
  },
  {
   "cell_type": "code",
   "execution_count": 48,
   "metadata": {
    "ExecuteTime": {
     "end_time": "2023-05-23T13:00:08.232682700Z",
     "start_time": "2023-05-23T13:00:08.170087Z"
    }
   },
   "outputs": [],
   "source": [
    "%run loader.ipynb"
   ]
  },
  {
   "cell_type": "code",
   "execution_count": 49,
   "metadata": {
    "ExecuteTime": {
     "end_time": "2023-05-23T13:00:08.232682700Z",
     "start_time": "2023-05-23T13:00:08.232682700Z"
    }
   },
   "outputs": [],
   "source": [
    "device = 'cuda' if torch.cuda.is_available() else 'cpu'"
   ]
  },
  {
   "cell_type": "code",
   "execution_count": 50,
   "metadata": {
    "ExecuteTime": {
     "end_time": "2023-05-23T13:00:08.250305900Z",
     "start_time": "2023-05-23T13:00:08.232682700Z"
    }
   },
   "outputs": [],
   "source": [
    "def test(epoch, model, loader):\n",
    "    model.eval()\n",
    "    test_losses = []\n",
    "    with torch.no_grad():\n",
    "        for i, data in enumerate(loader):\n",
    "            inputs, labels = data\n",
    "            inputs = inputs.to(device)\n",
    "            labels = labels.to(device)\n",
    "            outputs = model(inputs)\n",
    "            loss = ((inputs - outputs) ** 2).sum() + model.encoder.kl# + (inputs - sr).abs().sum()\n",
    "            # l = loss(inputs, outputs, mean, logvar).to(device)\n",
    "            test_losses.append(loss.item() / len(labels))\n",
    "            if i == 0:\n",
    "                n = min(inputs.size(0), 8)\n",
    "                comparison = torch.cat([inputs[:n],\n",
    "                                        outputs.view(len(labels), 1, 100, 100)[:n]])\n",
    "                save_image(comparison.cpu(),\n",
    "                           '../results/reconstruction/' + str(epoch) + '.png', nrow=n)\n",
    "    return np.mean(test_losses)\n",
    "def loss(X, X_hat, mean, logvar):\n",
    "    reconstruction_loss = BCE_loss(X_hat, X)\n",
    "    KL_divergence = 0.5 * torch.sum(-1 - logvar + torch.exp(logvar) + mean ** 2)\n",
    "    return reconstruction_loss + KL_divergence"
   ]
  }
 ],
 "metadata": {
  "kernelspec": {
   "display_name": "Python 3",
   "language": "python",
   "name": "python3"
  },
  "language_info": {
   "codemirror_mode": {
    "name": "ipython",
    "version": 3
   },
   "file_extension": ".py",
   "mimetype": "text/x-python",
   "name": "python",
   "nbconvert_exporter": "python",
   "pygments_lexer": "ipython3",
   "version": "3.6.4"
  }
 },
 "nbformat": 4,
 "nbformat_minor": 2
}
