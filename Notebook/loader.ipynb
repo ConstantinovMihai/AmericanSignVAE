{
 "cells": [
  {
   "cell_type": "code",
   "execution_count": 1,
   "metadata": {
    "ExecuteTime": {
     "end_time": "2023-05-23T12:14:24.688374100Z",
     "start_time": "2023-05-23T12:14:17.352342200Z"
    }
   },
   "outputs": [],
   "source": [
    "import matplotlib.pyplot as plt\n",
    "import pandas as pd\n",
    "# Setup\n",
    "from torch.utils.data import Dataset"
   ]
  },
  {
   "cell_type": "code",
   "execution_count": 2,
   "metadata": {
    "ExecuteTime": {
     "end_time": "2023-05-23T12:14:24.704470700Z",
     "start_time": "2023-05-23T12:14:24.693429400Z"
    }
   },
   "outputs": [],
   "source": [
    "plt.rcParams['figure.dpi'] = 200"
   ]
  },
  {
   "cell_type": "code",
   "execution_count": 3,
   "metadata": {
    "ExecuteTime": {
     "end_time": "2023-05-23T12:14:24.720617100Z",
     "start_time": "2023-05-23T12:14:24.713508600Z"
    }
   },
   "outputs": [],
   "source": [
    "class CustomImageDataset(Dataset):\n",
    "    def __init__(self, img_dir, transform=None, target_transform=None):\n",
    "        self.data = pd.read_csv(img_dir)\n",
    "        self.img_labels = self.data.loc[:, \"label\"]\n",
    "        self.transform = transform\n",
    "        self.target_transform = target_transform\n",
    "\n",
    "    def __len__(self):\n",
    "        return len(self.img_labels)\n",
    "\n",
    "    def __getitem__(self, idx):\n",
    "        bools = [True for x in range(len(self.data.columns))]\n",
    "        bools[0] = False\n",
    "        # print(self.data.loc[idx, bools].to_numpy().reshape(28,28))\n",
    "        image = self.data.loc[idx, bools].to_numpy().reshape(28, 28).astype('float32')\n",
    "        label = self.img_labels[idx]\n",
    "        if self.transform:\n",
    "            image = self.transform(image)\n",
    "        if self.target_transform:\n",
    "            label = self.target_transform(label)\n",
    "        return image, label"
   ]
  },
  {
   "cell_type": "markdown",
   "metadata": {},
   "source": [
    "mnist_data = CustomImageDataset('sign_mnist_train.csv', transform=ToTensor())<br>\n",
    "# mnist_data = datasets.MNIST('./data',<br>\n",
    "#              transform=transforms.ToTensor(),<br>\n",
    "#             download=True)<br>\n",
    "<br>\n",
    "# Put it into a dataloader for easier handling in pytorch<br>\n",
    "mnist_loader = torch.utils.data.DataLoader(mnist_data, batch_size=128, shuffle=False)<br>\n",
    "<br>\n",
    "# Show some example images<br>\n",
    "nr_dig = 15<br>\n",
    "fig, axs = plt.subplots(nr_dig, nr_dig, figsize=(10, 10))<br>\n",
    "for i in range(int(nr_dig * nr_dig)):<br>\n",
    "    x, _ = mnist_data[i]<br>\n",
    "    ax = axs[i // nr_dig][i % nr_dig]<br>\n",
    "    ax.imshow(x.view(28, 28), cmap='gray')<br>\n",
    "    ax.axis('off')<br>\n",
    "    ax.axis('off')<br>\n",
    "plt.tight_layout()<br>\n",
    "plt.show()"
   ]
  },
  {
   "cell_type": "code",
   "execution_count": null,
   "outputs": [],
   "source": [],
   "metadata": {
    "collapsed": false
   }
  }
 ],
 "metadata": {
  "kernelspec": {
   "display_name": "Python 3",
   "language": "python",
   "name": "python3"
  },
  "language_info": {
   "codemirror_mode": {
    "name": "ipython",
    "version": 3
   },
   "file_extension": ".py",
   "mimetype": "text/x-python",
   "name": "python",
   "nbconvert_exporter": "python",
   "pygments_lexer": "ipython3",
   "version": "3.6.4"
  }
 },
 "nbformat": 4,
 "nbformat_minor": 2
}
