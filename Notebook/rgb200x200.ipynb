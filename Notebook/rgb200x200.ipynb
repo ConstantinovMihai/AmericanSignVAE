{
 "cells": [
  {
   "cell_type": "code",
   "execution_count": 1,
   "metadata": {
    "ExecuteTime": {
     "end_time": "2023-06-01T10:15:21.860947200Z",
     "start_time": "2023-06-01T10:15:18.973489400Z"
    }
   },
   "outputs": [],
   "source": [
    "import torch\n",
    "import torch.nn as nn\n",
    "from collections import OrderedDict\n",
    "import numpy as np"
   ]
  },
  {
   "cell_type": "code",
   "execution_count": 2,
   "metadata": {
    "ExecuteTime": {
     "end_time": "2023-06-01T10:15:22.589496300Z",
     "start_time": "2023-06-01T10:15:21.860947200Z"
    }
   },
   "outputs": [],
   "source": [
    "%run utils.ipynb\n",
    "device = torch.device('cuda' if torch.cuda.is_available() else 'cpu')"
   ]
  },
  {
   "cell_type": "code",
   "execution_count": 4,
   "outputs": [],
   "source": [
    "class Flatten(nn.Module):\n",
    "    def __init__(self):\n",
    "        super(Flatten, self).__init__()\n",
    "\n",
    "    def forward(self, x):\n",
    "        batch_size = x.shape[0]\n",
    "        return x.view(batch_size, -1)\n",
    "\n",
    "\n",
    "class MLP(nn.Module):\n",
    "    def __init__(self, hidden_size, last_activation=True):\n",
    "        super(MLP, self).__init__()\n",
    "        q = []\n",
    "        for i in range(len(hidden_size) - 1):\n",
    "            in_dim = hidden_size[i]\n",
    "            out_dim = hidden_size[i + 1]\n",
    "            q.append((\"Linear_%d\" % i, nn.Linear(in_dim, out_dim)))\n",
    "            if (i < len(hidden_size) - 2) or ((i == len(hidden_size) - 2) and (last_activation)):\n",
    "                q.append((\"BatchNorm_%d\" % i, nn.BatchNorm1d(out_dim)))\n",
    "                q.append((\"ReLU_%d\" % i, nn.ReLU(inplace=True)))\n",
    "        self.mlp = nn.Sequential(OrderedDict(q))\n",
    "\n",
    "    def forward(self, x):\n",
    "        return self.mlp(x)"
   ],
   "metadata": {
    "collapsed": false,
    "ExecuteTime": {
     "end_time": "2023-05-29T13:14:34.971695Z",
     "start_time": "2023-05-29T13:14:34.956094800Z"
    }
   }
  },
  {
   "cell_type": "code",
   "execution_count": 5,
   "metadata": {
    "ExecuteTime": {
     "end_time": "2023-05-29T13:14:35.002908100Z",
     "start_time": "2023-05-29T13:14:34.987209700Z"
    }
   },
   "outputs": [],
   "source": [
    "class Encoder(nn.Module):\n",
    "    def __init__(self, shape, nhid=16, ncond=0):\n",
    "        super(Encoder, self).__init__()\n",
    "        c, h, w = shape\n",
    "        ww = ((w - 8) // 2 - 4) // 2\n",
    "        hh = ((h - 8) // 2 - 4) // 2\n",
    "        self.encode = nn.Sequential(nn.Conv2d(c, 16, 5, padding=0), nn.BatchNorm2d(16), nn.ReLU(inplace=True),\n",
    "                                    nn.Conv2d(16, 32, 5, padding=0), nn.BatchNorm2d(32), nn.ReLU(inplace=True),\n",
    "                                    nn.MaxPool2d(2, 2),\n",
    "                                    nn.Conv2d(32, 64, 3, padding=0), nn.BatchNorm2d(64), nn.ReLU(inplace=True),\n",
    "                                    nn.Conv2d(64, 64, 3, padding=0), nn.BatchNorm2d(64), nn.ReLU(inplace=True),\n",
    "                                    nn.MaxPool2d(2, 2),\n",
    "                                    Flatten(), MLP([ww * hh * 64, 256, 128])\n",
    "                                    )\n",
    "        self.calc_mean = MLP([128 + ncond, 64, nhid], last_activation=False)\n",
    "        self.calc_logvar = MLP([128 + ncond, 64, nhid], last_activation=False)\n",
    "\n",
    "    def forward(self, x, y=None):\n",
    "        x = self.encode(x)\n",
    "        if (y is None):\n",
    "            return self.calc_mean(x), self.calc_logvar(x)\n",
    "        else:\n",
    "            return self.calc_mean(torch.cat((x, y), dim=1)), self.calc_logvar(torch.cat((x, y), dim=1))\n",
    "\n",
    "\n",
    "class Decoder(nn.Module):\n",
    "    def __init__(self, shape, nhid=16, ncond=0):\n",
    "        super(Decoder, self).__init__()\n",
    "        c, w, h = shape\n",
    "        self.shape = shape\n",
    "        self.decode = nn.Sequential(MLP([nhid + ncond, 64, 128, 256, c * w * h], last_activation=False), nn.Sigmoid())\n",
    "\n",
    "    def forward(self, z, y=None):\n",
    "        c, w, h = self.shape\n",
    "        if (y is None):\n",
    "            return self.decode(z).view(-1, c, w, h)\n",
    "        else:\n",
    "            return self.decode(torch.cat((z, y), dim=1)).view(-1, c, w, h)\n",
    "class ResidualBlock(nn.Module):\n",
    "    def __init__(self, input_channels, kernel_size):\n",
    "        super(ResidualBlock, self).__init__()\n",
    "        self.conv1 = nn.Conv2d(input_channels, input_channels, kernel_size, padding=1)\n",
    "        self.bn    = nn.BatchNorm2d(input_channels)\n",
    "        self.relu  = nn.ReLU()\n",
    "\n",
    "    def forward(self, x):\n",
    "        y = self.conv1(x)\n",
    "        y = self.bn(y)\n",
    "        y = self.relu(y)\n",
    "\n",
    "        return y + x\n",
    "# class SRCNN(nn.Module):\n",
    "#     def __init__(self):\n",
    "#         super(SRCNN, self).__init__()\n",
    "#         self.conv1 = nn.Conv2d(3, 64, kernel_size=9, padding=2, padding_mode='replicate')\n",
    "#\n",
    "#         self.res1  = ResidualBlock(64, 3)\n",
    "#         self.res2  = ResidualBlock(64, 3)\n",
    "#         self.res3  = ResidualBlock(64, 3)\n",
    "#         self.res4  = ResidualBlock(64, 3)\n",
    "#         self.res5  = ResidualBlock(64, 3)\n",
    "#\n",
    "#         self.conv_int = nn.Conv2d(64, 64, kernel_size=3, padding=1)\n",
    "#         self.tanh     = nn.Tanh()\n",
    "#\n",
    "#         self.conv2 = nn.Conv2d(64, 32, kernel_size=1, padding=2, padding_mode='replicate')\n",
    "#         self.conv3 = nn.Conv2d(32, 3, kernel_size=5, padding=2, padding_mode='replicate')\n",
    "#\n",
    "#     def forward(self, x):\n",
    "#\n",
    "#         x = self.conv1(x)\n",
    "#         # chaining the residuals\n",
    "#         y = self.res1(x)\n",
    "#         y = self.res2(y)\n",
    "#         y = self.res3(y)\n",
    "#         y = self.res4(y)\n",
    "#         y = self.res5(y)\n",
    "#\n",
    "#         y = self.conv_int(y)\n",
    "#         y = y + x\n",
    "#\n",
    "#         y = self.conv2(y)\n",
    "#         y = self.conv3(y)\n",
    "#\n",
    "#         y = self.tanh(y)\n",
    "#         return y"
   ]
  },
  {
   "cell_type": "code",
   "execution_count": 6,
   "outputs": [],
   "source": [
    "\n",
    "class cVAE(nn.Module):\n",
    "    def __init__(self, shape, nclass, nhid=16, ncond=16):\n",
    "        super(cVAE, self).__init__()\n",
    "        self.dim = nhid\n",
    "        self.encoder = Encoder(shape, nhid, ncond=ncond)\n",
    "        self.decoder = Decoder(shape, nhid, ncond=ncond)\n",
    "        self.label_embedding = nn.Embedding(nclass, ncond)\n",
    "        # self.sr = SRCNN()\n",
    "\n",
    "    def sampling(self, mean, logvar):\n",
    "        eps = torch.randn(mean.shape).to(device)\n",
    "        sigma = 0.5 * torch.exp(logvar)\n",
    "        return mean + eps * sigma\n",
    "\n",
    "    def forward(self, x, y):\n",
    "        y = self.label_embedding(y)\n",
    "        mean, logvar = self.encoder(x, y)\n",
    "        z = self.sampling(mean, logvar)\n",
    "        w = self.decoder(z, y)\n",
    "        return w, mean, logvar\n",
    "\n",
    "    def generate(self, class_idx):\n",
    "        if (type(class_idx) is int):\n",
    "            class_idx = torch.tensor(class_idx)\n",
    "        class_idx = class_idx.to(device)\n",
    "        if (len(class_idx.shape) == 0):\n",
    "            batch_size = None\n",
    "            class_idx = class_idx.unsqueeze(0)\n",
    "            z = torch.randn((1, self.dim)).to(device)\n",
    "        else:\n",
    "            batch_size = class_idx.shape[0]\n",
    "            z = torch.randn((batch_size, self.dim)).to(device)\n",
    "        y = self.label_embedding(class_idx)\n",
    "        res = self.decoder(z, y)\n",
    "        if not batch_size:\n",
    "            res = res.squeeze(0)\n",
    "        return res"
   ],
   "metadata": {
    "collapsed": false,
    "ExecuteTime": {
     "end_time": "2023-05-29T13:14:35.018475500Z",
     "start_time": "2023-05-29T13:14:35.002908100Z"
    }
   }
  },
  {
   "cell_type": "code",
   "execution_count": 6,
   "outputs": [],
   "source": [],
   "metadata": {
    "collapsed": false,
    "ExecuteTime": {
     "end_time": "2023-05-29T13:14:35.034189700Z",
     "start_time": "2023-05-29T13:14:35.018475500Z"
    }
   }
  }
 ],
 "metadata": {
  "kernelspec": {
   "display_name": "Python 3",
   "language": "python",
   "name": "python3"
  },
  "language_info": {
   "codemirror_mode": {
    "name": "ipython",
    "version": 3
   },
   "file_extension": ".py",
   "mimetype": "text/x-python",
   "name": "python",
   "nbconvert_exporter": "python",
   "pygments_lexer": "ipython3",
   "version": "3.6.4"
  }
 },
 "nbformat": 4,
 "nbformat_minor": 2
}
