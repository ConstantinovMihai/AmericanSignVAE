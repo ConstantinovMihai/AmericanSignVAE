{
 "cells": [
  {
   "cell_type": "code",
   "execution_count": 6,
   "metadata": {
    "ExecuteTime": {
     "end_time": "2023-05-29T10:24:49.522074600Z",
     "start_time": "2023-05-29T10:24:49.491035800Z"
    }
   },
   "outputs": [],
   "source": [
    "import torch\n",
    "import torch.nn as nn\n",
    "from collections import OrderedDict\n",
    "import numpy as np"
   ]
  },
  {
   "cell_type": "code",
   "execution_count": 7,
   "metadata": {
    "ExecuteTime": {
     "end_time": "2023-05-29T10:24:49.553987800Z",
     "start_time": "2023-05-29T10:24:49.519081600Z"
    }
   },
   "outputs": [],
   "source": [
    "%run utils.ipynb\n",
    "device = torch.device('cuda' if torch.cuda.is_available() else 'cpu')"
   ]
  },
  {
   "cell_type": "code",
   "execution_count": 8,
   "outputs": [],
   "source": [
    "class Flatten(nn.Module):\n",
    "    def __init__(self):\n",
    "        super(Flatten, self).__init__()\n",
    "\n",
    "    def forward(self, x):\n",
    "        batch_size = x.shape[0]\n",
    "        return x.view(batch_size, -1)\n",
    "\n",
    "\n",
    "class MLP(nn.Module):\n",
    "    def __init__(self, hidden_size, last_activation=True):\n",
    "        super(MLP, self).__init__()\n",
    "        q = []\n",
    "        for i in range(len(hidden_size) - 1):\n",
    "            in_dim = hidden_size[i]\n",
    "            out_dim = hidden_size[i + 1]\n",
    "            q.append((\"Linear_%d\" % i, nn.Linear(in_dim, out_dim)))\n",
    "            if (i < len(hidden_size) - 2) or ((i == len(hidden_size) - 2) and (last_activation)):\n",
    "                q.append((\"BatchNorm_%d\" % i, nn.BatchNorm1d(out_dim)))\n",
    "                q.append((\"ReLU_%d\" % i, nn.ReLU(inplace=True)))\n",
    "        self.mlp = nn.Sequential(OrderedDict(q))\n",
    "\n",
    "    def forward(self, x):\n",
    "        return self.mlp(x)"
   ],
   "metadata": {
    "collapsed": false,
    "ExecuteTime": {
     "end_time": "2023-05-29T10:24:49.585902900Z",
     "start_time": "2023-05-29T10:24:49.553987800Z"
    }
   }
  },
  {
   "cell_type": "code",
   "execution_count": 9,
   "metadata": {
    "ExecuteTime": {
     "end_time": "2023-05-29T10:24:49.615823400Z",
     "start_time": "2023-05-29T10:24:49.585902900Z"
    }
   },
   "outputs": [],
   "source": [
    "class Encoder(nn.Module):\n",
    "    def __init__(self, shape, nhid=16, ncond=0):\n",
    "        super(Encoder, self).__init__()\n",
    "        c, h, w = shape\n",
    "        ww = ((w - 8) // 2 - 4) // 2\n",
    "        hh = ((h - 8) // 2 - 4) // 2\n",
    "        self.encode = nn.Sequential(nn.Conv2d(c, 16, 5, padding=0), nn.BatchNorm2d(16), nn.ReLU(inplace=True),\n",
    "                                    nn.Conv2d(16, 32, 5, padding=0), nn.BatchNorm2d(32), nn.ReLU(inplace=True),\n",
    "                                    nn.MaxPool2d(2, 2),\n",
    "                                    nn.Conv2d(32, 64, 3, padding=0), nn.BatchNorm2d(64), nn.ReLU(inplace=True),\n",
    "                                    nn.Conv2d(64, 64, 3, padding=0), nn.BatchNorm2d(64), nn.ReLU(inplace=True),\n",
    "                                    nn.MaxPool2d(2, 2),\n",
    "                                    Flatten(), MLP([ww * hh * 64, 256, 128])\n",
    "                                    )\n",
    "        self.calc_mean = MLP([128 + ncond, 64, nhid], last_activation=False)\n",
    "        self.calc_logvar = MLP([128 + ncond, 64, nhid], last_activation=False)\n",
    "\n",
    "    def forward(self, x, y=None):\n",
    "        x = self.encode(x)\n",
    "        if (y is None):\n",
    "            return self.calc_mean(x), self.calc_logvar(x)\n",
    "        else:\n",
    "            return self.calc_mean(torch.cat((x, y), dim=1)), self.calc_logvar(torch.cat((x, y), dim=1))\n",
    "\n",
    "\n",
    "class Decoder(nn.Module):\n",
    "    def __init__(self, shape, nhid=16, ncond=0):\n",
    "        super(Decoder, self).__init__()\n",
    "        c, w, h = shape\n",
    "        self.shape = shape\n",
    "        self.decode = nn.Sequential(MLP([nhid + ncond, 64, 128, 256, c * w * h], last_activation=False), nn.Sigmoid())\n",
    "\n",
    "    def forward(self, z, y=None):\n",
    "        c, w, h = self.shape\n",
    "        if (y is None):\n",
    "            return self.decode(z).view(-1, c, w, h)\n",
    "        else:\n",
    "            return self.decode(torch.cat((z, y), dim=1)).view(-1, c, w, h)"
   ]
  },
  {
   "cell_type": "code",
   "execution_count": 10,
   "outputs": [],
   "source": [
    "\n",
    "class cVAE(nn.Module):\n",
    "    def __init__(self, shape, nclass, nhid=16, ncond=16):\n",
    "        super(cVAE, self).__init__()\n",
    "        self.dim = nhid\n",
    "        self.encoder = Encoder(shape, nhid, ncond=ncond)\n",
    "        self.decoder = Decoder(shape, nhid, ncond=ncond)\n",
    "        self.label_embedding = nn.Embedding(nclass, ncond)\n",
    "\n",
    "    def sampling(self, mean, logvar):\n",
    "        eps = torch.randn(mean.shape).to(device)\n",
    "        sigma = 0.5 * torch.exp(logvar)\n",
    "        return mean + eps * sigma\n",
    "\n",
    "    def forward(self, x, y):\n",
    "        y = self.label_embedding(y)\n",
    "        mean, logvar = self.encoder(x, y)\n",
    "        z = self.sampling(mean, logvar)\n",
    "        return self.decoder(z, y), mean, logvar\n",
    "\n",
    "    def generate(self, class_idx):\n",
    "        if (type(class_idx) is int):\n",
    "            class_idx = torch.tensor(class_idx)\n",
    "        class_idx = class_idx.to(device)\n",
    "        if (len(class_idx.shape) == 0):\n",
    "            batch_size = None\n",
    "            class_idx = class_idx.unsqueeze(0)\n",
    "            z = torch.randn((1, self.dim)).to(device)\n",
    "        else:\n",
    "            batch_size = class_idx.shape[0]\n",
    "            z = torch.randn((batch_size, self.dim)).to(device)\n",
    "        y = self.label_embedding(class_idx)\n",
    "        res = self.decoder(z, y)\n",
    "        if not batch_size:\n",
    "            res = res.squeeze(0)\n",
    "        return res"
   ],
   "metadata": {
    "collapsed": false,
    "ExecuteTime": {
     "end_time": "2023-05-29T10:24:49.646740800Z",
     "start_time": "2023-05-29T10:24:49.615823400Z"
    }
   }
  }
 ],
 "metadata": {
  "kernelspec": {
   "display_name": "Python 3",
   "language": "python",
   "name": "python3"
  },
  "language_info": {
   "codemirror_mode": {
    "name": "ipython",
    "version": 3
   },
   "file_extension": ".py",
   "mimetype": "text/x-python",
   "name": "python",
   "nbconvert_exporter": "python",
   "pygments_lexer": "ipython3",
   "version": "3.6.4"
  }
 },
 "nbformat": 4,
 "nbformat_minor": 2
}
