{
 "cells": [
  {
   "cell_type": "markdown",
   "metadata": {},
   "source": [
    "Setup"
   ]
  },
  {
   "cell_type": "code",
   "execution_count": 5,
   "metadata": {
    "ExecuteTime": {
     "end_time": "2023-05-23T12:13:37.409125200Z",
     "start_time": "2023-05-23T12:13:37.396011500Z"
    }
   },
   "outputs": [],
   "source": [
    "import matplotlib.pyplot as plt\n",
    "import torch\n",
    "import torch.nn as nn"
   ]
  },
  {
   "cell_type": "code",
   "execution_count": 6,
   "metadata": {
    "ExecuteTime": {
     "end_time": "2023-05-23T12:13:37.705474500Z",
     "start_time": "2023-05-23T12:13:37.691356500Z"
    }
   },
   "outputs": [],
   "source": [
    "from utils import try_gpu"
   ]
  },
  {
   "cell_type": "code",
   "execution_count": 7,
   "metadata": {
    "ExecuteTime": {
     "end_time": "2023-05-23T12:13:37.874034400Z",
     "start_time": "2023-05-23T12:13:37.857080200Z"
    }
   },
   "outputs": [],
   "source": [
    "plt.rcParams['figure.dpi'] = 200\n",
    "s_img=28"
   ]
  },
  {
   "cell_type": "code",
   "execution_count": 8,
   "metadata": {
    "ExecuteTime": {
     "end_time": "2023-05-23T12:13:38.184816900Z",
     "start_time": "2023-05-23T12:13:38.136584200Z"
    }
   },
   "outputs": [],
   "source": [
    "class Decoder(nn.Module):\n",
    "    def __init__(self):\n",
    "        super(Decoder, self).__init__()\n",
    "        # Sampling vector\n",
    "        # increase final feature map size\n",
    "        # less layers, bigger kernels?\n",
    "        self.fc3 = nn.Linear(2048, 2048)\n",
    "        self.fc_bn3 = nn.BatchNorm1d(2048)\n",
    "        self.fc4 = nn.Linear(2048, 7 * 7 * 16)\n",
    "        self.fc_bn4 = nn.BatchNorm1d(7 * 7 * 16)\n",
    "        self.conv5 = nn.ConvTranspose2d(16, 64, kernel_size=3, stride=2, padding=1, output_padding=1, bias=False)\n",
    "        self.bn5 = nn.BatchNorm2d(64)\n",
    "        self.conv6 = nn.ConvTranspose2d(64, 32, kernel_size=3, stride=1, padding=1, bias=False)\n",
    "        self.bn6 = nn.BatchNorm2d(32)\n",
    "        self.conv7 = nn.ConvTranspose2d(32, 16, kernel_size=3, stride=2, padding=1, output_padding=1, bias=False)\n",
    "        self.bn7 = nn.BatchNorm2d(16)\n",
    "        self.conv8 = nn.ConvTranspose2d(16, 1, kernel_size=3, stride=1, padding=1, bias=False)\n",
    "        self.relu = nn.ReLU()\n",
    "    def forward(self, z):\n",
    "        fc3 = self.relu(self.fc_bn3(self.fc3(z)))\n",
    "        fc4 = self.relu(self.fc_bn4(self.fc4(fc3))).view(-1, 16, 7, 7)\n",
    "        conv5 = self.relu(self.bn5(self.conv5(fc4)))\n",
    "        conv6 = self.relu(self.bn6(self.conv6(conv5)))\n",
    "        conv7 = self.relu(self.bn7(self.conv7(conv6)))\n",
    "        z = self.conv8(conv7).view(-1, 1, 28, 28)\n",
    "        return z"
   ]
  },
  {
   "cell_type": "code",
   "execution_count": 9,
   "metadata": {
    "ExecuteTime": {
     "end_time": "2023-05-23T12:13:38.221990500Z",
     "start_time": "2023-05-23T12:13:38.199917500Z"
    }
   },
   "outputs": [],
   "source": [
    "class Encoder(nn.Module):\n",
    "    def __init__(self):\n",
    "        super(Encoder, self).__init__()\n",
    "        # tune parameters?\n",
    "        self.conv1 = nn.Conv2d(1, 16, kernel_size=3, stride=1, padding=1, bias=False)\n",
    "        self.bn1 = nn.BatchNorm2d(16)\n",
    "        self.conv2 = nn.Conv2d(16, 32, kernel_size=3, stride=2, padding=1, bias=False)\n",
    "        self.bn2 = nn.BatchNorm2d(32)\n",
    "        self.conv3 = nn.Conv2d(32, 64, kernel_size=3, stride=1, padding=1, bias=False)\n",
    "        self.bn3 = nn.BatchNorm2d(64)\n",
    "        self.conv4 = nn.Conv2d(64, 16, kernel_size=3, stride=2, padding=1, bias=False)\n",
    "        self.bn4 = nn.BatchNorm2d(16)\n",
    "        self.fc1 = nn.Linear(7 * 7 * 16, 2048)\n",
    "        self.fc_bn1 = nn.BatchNorm1d(2048)\n",
    "        self.fc21 = nn.Linear(2048, 2048)\n",
    "        self.fc22 = nn.Linear(2048, 2048)\n",
    "        # Sampling vector\n",
    "        self.fc3 = nn.Linear(2048, 2048)\n",
    "        self.fc_bn3 = nn.BatchNorm1d(2048)\n",
    "        self.fc4 = nn.Linear(2048, 7 * 7 * 16)\n",
    "        self.fc_bn4 = nn.BatchNorm1d(7 * 7 * 16)\n",
    "        self.relu = nn.ReLU()\n",
    "        self.N = torch.distributions.Normal(0, 1)\n",
    "        self.N.loc = self.N.loc.to(try_gpu())  # hack to get sampling on the GPU\n",
    "        self.N.scale = self.N.scale.to(try_gpu())\n",
    "        self.kl = 0\n",
    "    def kull_leib(self, mu, sigma):\n",
    "        res = (sigma ** 2 + mu ** 2 - torch.log(sigma) - 1 / 2).sum()\n",
    "        return res\n",
    "    def reparameterize(self, mu, sig):\n",
    "        return mu + sig * self.N.sample(mu.shape)\n",
    "    def forward(self, x):\n",
    "        conv1 = self.relu(self.bn1(self.conv1(x)))\n",
    "        conv2 = self.relu(self.bn2(self.conv2(conv1)))\n",
    "        conv3 = self.relu(self.bn3(self.conv3(conv2)))\n",
    "        conv4 = self.relu(self.bn4(self.conv4(conv3))).view(-1, 7 * 7 * 16)\n",
    "        fc1 = self.relu(self.fc_bn1(self.fc1(conv4)))\n",
    "        mu = self.fc21(fc1)\n",
    "        sig = self.fc22(fc1).exp()\n",
    "        # reparameterize to find z\n",
    "        z = self.reparameterize(mu, sig)\n",
    "        # loss between N(0,I) and learned distribution\n",
    "        self.kl = self.kull_leib(mu, sig)\n",
    "        return z"
   ]
  },
  {
   "cell_type": "code",
   "execution_count": 10,
   "outputs": [],
   "source": [
    "class ConvVarAutoencoder(nn.Module):\n",
    "    def __init__(self):\n",
    "        super(ConvVarAutoencoder, self).__init__()\n",
    "\n",
    "        # Encoder\n",
    "        self.encoder = Encoder()\n",
    "        # Decoder\n",
    "        self.decoder = Decoder()\n",
    "    def forward(self, x):\n",
    "        z = self.encoder(x)\n",
    "        y = self.decoder(z)\n",
    "        return y"
   ],
   "metadata": {
    "collapsed": false,
    "ExecuteTime": {
     "end_time": "2023-05-23T12:13:38.376086Z",
     "start_time": "2023-05-23T12:13:38.318514400Z"
    }
   }
  }
 ],
 "metadata": {
  "kernelspec": {
   "display_name": "Python 3",
   "language": "python",
   "name": "python3"
  },
  "language_info": {
   "codemirror_mode": {
    "name": "ipython",
    "version": 3
   },
   "file_extension": ".py",
   "mimetype": "text/x-python",
   "name": "python",
   "nbconvert_exporter": "python",
   "pygments_lexer": "ipython3",
   "version": "3.6.4"
  }
 },
 "nbformat": 4,
 "nbformat_minor": 2
}
