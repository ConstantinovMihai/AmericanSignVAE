{
 "cells": [
  {
   "cell_type": "code",
   "execution_count": 12,
   "metadata": {
    "ExecuteTime": {
     "end_time": "2023-05-23T12:53:10.561454500Z",
     "start_time": "2023-05-23T12:53:10.514563900Z"
    }
   },
   "outputs": [],
   "source": [
    "import torch\n",
    "import torch.nn.functional as F\n",
    "import torch.optim as optim\n",
    "from torch.utils.data import TensorDataset\n",
    "from torch.utils.tensorboard import SummaryWriter\n",
    "from torchvision import datasets, transforms\n",
    "from torchvision.utils import save_image\n",
    "from tqdm import tqdm\n",
    "%run ConV_VAE.ipynb\n",
    "%run loader.ipynb"
   ]
  },
  {
   "cell_type": "code",
   "execution_count": 13,
   "metadata": {
    "ExecuteTime": {
     "end_time": "2023-05-23T12:53:10.592670300Z",
     "start_time": "2023-05-23T12:53:10.561454500Z"
    }
   },
   "outputs": [],
   "source": [
    "device = 'cuda' if torch.cuda.is_available() else 'cpu'"
   ]
  },
  {
   "cell_type": "code",
   "execution_count": 14,
   "metadata": {
    "ExecuteTime": {
     "end_time": "2023-05-23T12:53:10.592670300Z",
     "start_time": "2023-05-23T12:53:10.592670300Z"
    }
   },
   "outputs": [],
   "source": [
    "def train_vae(train_loader, net, optimizer, device=device):\n",
    "    \"\"\"\n",
    "    Trains variational autoencoder network for one epoch in batches.\n",
    "    Args:\n",
    "        train_loader: Data loader for training set.\n",
    "        net: Neural network model.\n",
    "        optimizer: Optimizer (e.g. SGD).\n",
    "        device: whether the network runs on cpu or gpu\n",
    "    \"\"\"\n",
    "    avg_loss = 0\n",
    "\n",
    "    # iterate through batches\n",
    "    for i, data in enumerate(train_loader):\n",
    "        # get the inputs; data is a list of [inputs, labels]\n",
    "        inputs, labels = data\n",
    "        #print(inputs.shape)\n",
    "        # convert the inputs to run on GPU if set\n",
    "        inputs = inputs.to(device)\n",
    "        # zero the parameter gradients\n",
    "        optimizer.zero_grad()\n",
    "        # forward + backward + optimize\n",
    "        outputs = net(inputs)\n",
    "        loss = ((inputs - outputs) ** 2).sum() + net.encoder.kl\n",
    "        loss.backward()\n",
    "        optimizer.step()\n",
    "\n",
    "        # keep track of loss and accuracy\n",
    "        avg_loss += loss\n",
    "    #print(inputs.shape)\n",
    "    return avg_loss / len(train_loader)"
   ]
  },
  {
   "cell_type": "code",
   "execution_count": 15,
   "metadata": {
    "ExecuteTime": {
     "end_time": "2023-05-23T12:53:10.623913Z",
     "start_time": "2023-05-23T12:53:10.592670300Z"
    }
   },
   "outputs": [],
   "source": [
    "# normalize = transforms.Normalize(160, 50)\n",
    "# transform = transforms.Compose([\n",
    "#     transforms.ToTensor(),\n",
    "#     normalize\n",
    "# ])\n",
    "# mnist_data = CustomImageDataset('../sign_mnist_train.csv', transform=transform)\n",
    "# # mnist_data = datasets.MNIST('./data',\n",
    "# #                             transform=transforms.ToTensor(),\n",
    "# #                             download=True)"
   ]
  },
  {
   "cell_type": "markdown",
   "metadata": {},
   "source": [
    "Put it into a dataloader for easier handling in pytorch"
   ]
  },
  {
   "cell_type": "code",
   "execution_count": 16,
   "metadata": {
    "ExecuteTime": {
     "end_time": "2023-05-23T12:53:10.623913Z",
     "start_time": "2023-05-23T12:53:10.623913Z"
    }
   },
   "outputs": [],
   "source": [
    "# mnist_loader = torch.utils.data.DataLoader(mnist_data, batch_size=128, shuffle=False)\n",
    "# 159.29443 48.70142\n",
    "# Create a writer to write to Tensorboard\n",
    "# writer = SummaryWriter()"
   ]
  },
  {
   "cell_type": "markdown",
   "metadata": {},
   "source": [
    "Create instance of Autoencoder"
   ]
  },
  {
   "cell_type": "markdown",
   "metadata": {},
   "source": [
    "model = VarAutoencoder(latent_dim, s_img, hdims).to(device)"
   ]
  },
  {
   "cell_type": "code",
   "execution_count": 17,
   "metadata": {
    "ExecuteTime": {
     "end_time": "2023-05-23T12:53:10.639534900Z",
     "start_time": "2023-05-23T12:53:10.623913Z"
    }
   },
   "outputs": [],
   "source": [
    "# model = ConvVarAutoencoder().cuda()\n",
    "# Create loss function and optimizer\n",
    "# criterion = F.mse_loss"
   ]
  },
  {
   "cell_type": "code",
   "execution_count": 18,
   "metadata": {
    "ExecuteTime": {
     "end_time": "2023-05-23T12:53:10.655155700Z",
     "start_time": "2023-05-23T12:53:10.639534900Z"
    }
   },
   "outputs": [],
   "source": [
    "# optimizer = optim.Adam(model.parameters(), lr=1e-3, weight_decay=0.1)"
   ]
  },
  {
   "cell_type": "markdown",
   "metadata": {},
   "source": [
    "Set the number of epochs to for training"
   ]
  },
  {
   "cell_type": "code",
   "execution_count": 19,
   "metadata": {
    "ExecuteTime": {
     "end_time": "2023-05-23T12:53:10.686398300Z",
     "start_time": "2023-05-23T12:53:10.655155700Z"
    }
   },
   "outputs": [],
   "source": [
    "# epochs = 5\n",
    "# train_losses = []\n",
    "# test_losses = []\n",
    "# for epoch in tqdm(range(epochs)):  # loop over the dataset multiple times\n",
    "#     # Train on data\n",
    "#     train_loss = train_vae(mnist_loader, model, optimizer, device)\n",
    "#     print(train_loss.item(), model.encoder.kl.item(), end='\\n')\n",
    "#     # Write metrics to Tensorboard\n",
    "#     writer.add_scalars(\"Loss\", {'Train': train_loss}, epoch)\n",
    "#     if epoch % 10 == 0:\n",
    "#         torch.save(model.state_dict(), \"model_good_50.pt\")\n",
    "#         with torch.no_grad():\n",
    "#             sample = torch.randn(64, 2048).to(device)\n",
    "#             sample = model.decoder(sample).cpu()\n",
    "#             save_image(sample.view(64, 1, 28, 28),\n",
    "#                        'results/' + str(epoch) + '.png')"
   ]
  }
 ],
 "metadata": {
  "kernelspec": {
   "display_name": "Python 3",
   "language": "python",
   "name": "python3"
  },
  "language_info": {
   "codemirror_mode": {
    "name": "ipython",
    "version": 3
   },
   "file_extension": ".py",
   "mimetype": "text/x-python",
   "name": "python",
   "nbconvert_exporter": "python",
   "pygments_lexer": "ipython3",
   "version": "3.6.4"
  }
 },
 "nbformat": 4,
 "nbformat_minor": 2
}
